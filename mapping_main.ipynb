{
 "cells": [
  {
   "cell_type": "code",
   "execution_count": null,
   "metadata": {
    "collapsed": true
   },
   "outputs": [],
   "source": [
    ""
   ]
  },
  {
   "cell_type": "code",
   "execution_count": 1,
   "metadata": {},
   "outputs": [],
   "source": [
    "host = 'SYNPAI' #'habanero'\n",
    "if host == 'habanero':\n",
    "    resultdir ='/rigel/issa/users/Tahereh/Results/'\n",
    "    neuraldir = '/rigel/issa/users/Tahereh/models/neural_features/'\n",
    "    modeldir = '/rigel/issa/users/Tahereh/models/'\n",
    "    datadir = '/rigel/issa/users/Tahereh/Data/DiCarlo/'\n",
    "elif host =='Mac':\n",
    "    resultdir ='/Users/tahereh/Documents/Results/invertibility/error coding in visual cortex/'\n",
    "    neuraldir = '/Users/tahereh/Documents/Results/invertibility/error coding in visual cortex/models/neural_features/'\n",
    "    modeldir ='/Users/tahereh/Documents/Results/invertibility/error coding in visual cortex/models/'\n",
    "    datadir = '/Users/Tahereh/Documents/Data/DiCarlo'\n",
    "elif host == 'SYNPAI':\n",
    "    resultdir = '/home/tahereh/Documents/Research/Results/Neural-Dynamics/'\n",
    "    neuralfeaturesdir = '/home/tahereh/Documents/Research/features/neural_features/'\n",
    "    modeldir =  '/home/tahereh/Documents/Research/features/'\n",
    "    datadir =  '/home/tahereh/Documents/Research/Data/DiCarlo/'\n",
    "    # %pylab inline\n",
    "    # pylab.rcParams['xtick.color'] = 'white'\n",
    "    # pylab.rcParams['ytick.color'] = 'white'\n",
    "    # # pylab.rcParams['figsize'] = [6,4]\n",
    "    "
   ]
  },
  {
   "cell_type": "code",
   "execution_count": 10,
   "metadata": {},
   "outputs": [
    {
     "name": "stdout",
     "output_type": "stream",
     "text": [
      "\n"
     ]
    }
   ],
   "source": [
    "import MappingV36\n",
    "from MappingV36 import MappingV36 as Mapping\n",
    "from ReadMeta import ReadMeta\n",
    "from ReadData import ReadData\n",
    "from ReadModel import ReadModel\n",
    "\n",
    "import pickle\n",
    "import h5py\n",
    "import numpy as np\n",
    "import matplotlib.pylab as plt\n",
    "%matplotlib inline\n",
    "\n",
    "import importlib\n",
    "Mapping = Mapping()\n",
    "\n"
   ]
  },
  {
   "cell_type": "code",
   "execution_count": 3,
   "metadata": {},
   "outputs": [
    {
     "name": "stdout",
     "output_type": "stream",
     "text": [
      "/home/tahereh/Documents/Research/features/neural_features/\n"
     ]
    }
   ],
   "source": [
    "\n",
    "# Read Meta\n",
    "Meta = ReadMeta(neuralfeaturesdir)\n",
    "DF_img = Meta.get_DF_img()\n",
    "DF_neu = Meta.get_DF_neu()\n",
    "times = Meta.get_times()\n",
    "\n",
    "# Read Neural data\n",
    "Data = ReadData(datadir, DF_neu)\n",
    "IT, V4 = Data.get_data()"
   ]
  },
  {
   "cell_type": "code",
   "execution_count": 4,
   "metadata": {},
   "outputs": [],
   "source": [
    "\n",
    "# get_consistencies\n",
    "region = 'IT'\n",
    "time_interval_fixed = [70, 130]\n",
    "flexible_times = np.arange(70, 280, 10)\n",
    "itr = 0    \n",
    "pseed = itr\n",
    "\n",
    "trial_split = Mapping.trial_split\n",
    "inds1, inds2 = trial_split(pseed)\n",
    "mean_trial_split = Mapping.mean_trial_split\n",
    "get_Neu_trial_V36 = Mapping.get_Neu_trial_V36\n",
    "half1, half2 = mean_trial_split(inds1, inds2, get_Neu_trial_V36(IT[1:], time_interval_fixed, times))\n",
    "train_test_split_objV36 = Mapping.train_test_split_objV36\n",
    "test_size = 0.2\n",
    "train_inds, test_inds = train_test_split_objV36(DF_img, test_size)\n"
   ]
  },
  {
   "cell_type": "code",
   "execution_count": 7,
   "metadata": {},
   "outputs": [],
   "source": [
    "Neu_trial = IT[1:]\n",
    "reg_method = 'ridge'  # 'PLS'#'ridge'\n",
    "\n",
    "if reg_method == 'PLS':\n",
    "    n_components = 25\n",
    "    reg_params = n_components\n",
    "elif reg_method == 'ridge':\n",
    "    reg_params = [20, -10, 10]\n",
    "    n_components = 500\n",
    "\n",
    "\n",
    "n_components_PCA = 500\n",
    "folder_name = 'HvM_forward_features/'\n",
    "# Model 1\n",
    "# Read Model\n",
    "model_layer1 = 'conv5'\n",
    "Model = ReadModel(model_layer1, modeldir, True, n_components_PCA)\n",
    "model1 = Model.get_model()[640:,:]\n",
    "\n",
    "\n",
    "filename = modeldir+'%s/500PCA/%dcmps_%s.h5'%(folder_name, n_components_PCA, model_layer1)\n",
    "h5f = h5py.File(filename, 'w')\n",
    "h5f.create_dataset('model_layer', data=model1)\n",
    "h5f.close()\n",
    "\n",
    "# # Model 2\n",
    "# # Read Model\n",
    "# model_layer2 = 'resnet_layer4'\n",
    "# Model = ReadModel(model_layer2, modeldir, True, n_components_PCA)\n",
    "# model2 = Model.get_model()[640:,:]\n",
    "# \n",
    "# \n",
    "# filename = modeldir+'%s/500PCA/%dcmps_%s.h5'%(folder_name, n_components_PCA, model_layer2)\n",
    "# h5f = h5py.File(filename, 'w')\n",
    "# h5f.create_dataset('model_layer', data=model2)\n",
    "# h5f.close()\n"
   ]
  },
  {
   "cell_type": "code",
   "execution_count": 11,
   "metadata": {},
   "outputs": [
    {
     "name": "stdout",
     "output_type": "stream",
     "text": [
      "\n"
     ]
    },
    {
     "name": "stdout",
     "output_type": "stream",
     "text": [
      "1.0211430152257284 minutes\n1.0211515188217164 minutes\n70 1.0211519877115884 minutes\n"
     ]
    },
    {
     "name": "stderr",
     "output_type": "stream",
     "text": [
      "/home/tahereh/Codes/Github/Mapping/MappingV36.py:165: RuntimeWarning: invalid value encountered in sqrt\n  return numerator/(np.sqrt(LHS*RHS))\n"
     ]
    },
    {
     "name": "stderr",
     "output_type": "stream",
     "text": [
      "/home/tahereh/Codes/Github/Mapping/MappingV36.py:165: RuntimeWarning: invalid value encountered in sqrt\n  return numerator/(np.sqrt(LHS*RHS))\n"
     ]
    },
    {
     "name": "stdout",
     "output_type": "stream",
     "text": [
      "80 2.0853573441505433 minutes\n"
     ]
    },
    {
     "name": "stderr",
     "output_type": "stream",
     "text": [
      "/home/tahereh/Codes/Github/Mapping/MappingV36.py:165: RuntimeWarning: invalid value encountered in sqrt\n  return numerator/(np.sqrt(LHS*RHS))\n"
     ]
    },
    {
     "name": "stdout",
     "output_type": "stream",
     "text": [
      "90 3.195521092414856 minutes\n"
     ]
    },
    {
     "name": "stderr",
     "output_type": "stream",
     "text": [
      "/home/tahereh/Codes/Github/Mapping/MappingV36.py:165: RuntimeWarning: invalid value encountered in sqrt\n  return numerator/(np.sqrt(LHS*RHS))\n"
     ]
    },
    {
     "name": "stdout",
     "output_type": "stream",
     "text": [
      "100 4.266790707906087 minutes\n"
     ]
    },
    {
     "name": "stderr",
     "output_type": "stream",
     "text": [
      "/home/tahereh/Codes/Github/Mapping/MappingV36.py:165: RuntimeWarning: invalid value encountered in sqrt\n  return numerator/(np.sqrt(LHS*RHS))\n"
     ]
    },
    {
     "name": "stdout",
     "output_type": "stream",
     "text": [
      "110 5.3783872882525126 minutes\n"
     ]
    },
    {
     "name": "stderr",
     "output_type": "stream",
     "text": [
      "/home/tahereh/Codes/Github/Mapping/MappingV36.py:165: RuntimeWarning: invalid value encountered in sqrt\n  return numerator/(np.sqrt(LHS*RHS))\n"
     ]
    },
    {
     "name": "stdout",
     "output_type": "stream",
     "text": [
      "120 6.490895454088847 minutes\n"
     ]
    },
    {
     "name": "stderr",
     "output_type": "stream",
     "text": [
      "/home/tahereh/Codes/Github/Mapping/MappingV36.py:165: RuntimeWarning: invalid value encountered in sqrt\n  return numerator/(np.sqrt(LHS*RHS))\n"
     ]
    },
    {
     "name": "stdout",
     "output_type": "stream",
     "text": [
      "130 7.589717388153076 minutes\n"
     ]
    },
    {
     "name": "stderr",
     "output_type": "stream",
     "text": [
      "/home/tahereh/Codes/Github/Mapping/MappingV36.py:165: RuntimeWarning: invalid value encountered in sqrt\n  return numerator/(np.sqrt(LHS*RHS))\n"
     ]
    },
    {
     "name": "stdout",
     "output_type": "stream",
     "text": [
      "140 8.497615993022919 minutes\n"
     ]
    },
    {
     "name": "stderr",
     "output_type": "stream",
     "text": [
      "/home/tahereh/Codes/Github/Mapping/MappingV36.py:165: RuntimeWarning: invalid value encountered in sqrt\n  return numerator/(np.sqrt(LHS*RHS))\n"
     ]
    },
    {
     "name": "stdout",
     "output_type": "stream",
     "text": [
      "150 9.4089368780454 minutes\n"
     ]
    },
    {
     "name": "stderr",
     "output_type": "stream",
     "text": [
      "/home/tahereh/Codes/Github/Mapping/MappingV36.py:165: RuntimeWarning: invalid value encountered in sqrt\n  return numerator/(np.sqrt(LHS*RHS))\n"
     ]
    },
    {
     "name": "stdout",
     "output_type": "stream",
     "text": [
      "160 10.306968744595846 minutes\n"
     ]
    },
    {
     "name": "stdout",
     "output_type": "stream",
     "text": [
      "170 11.215096632639566 minutes\n"
     ]
    },
    {
     "name": "stderr",
     "output_type": "stream",
     "text": [
      "/home/tahereh/Codes/Github/Mapping/MappingV36.py:165: RuntimeWarning: invalid value encountered in sqrt\n  return numerator/(np.sqrt(LHS*RHS))\n"
     ]
    },
    {
     "name": "stderr",
     "output_type": "stream",
     "text": [
      "/home/tahereh/Codes/Github/Mapping/MappingV36.py:165: RuntimeWarning: invalid value encountered in sqrt\n  return numerator/(np.sqrt(LHS*RHS))\n"
     ]
    },
    {
     "name": "stdout",
     "output_type": "stream",
     "text": [
      "180 12.157263211409251 minutes\n"
     ]
    },
    {
     "name": "stderr",
     "output_type": "stream",
     "text": [
      "/home/tahereh/Codes/Github/Mapping/MappingV36.py:165: RuntimeWarning: invalid value encountered in sqrt\n  return numerator/(np.sqrt(LHS*RHS))\n"
     ]
    },
    {
     "name": "stdout",
     "output_type": "stream",
     "text": [
      "190 13.059666923681895 minutes\n"
     ]
    },
    {
     "name": "stderr",
     "output_type": "stream",
     "text": [
      "/home/tahereh/Codes/Github/Mapping/MappingV36.py:165: RuntimeWarning: invalid value encountered in sqrt\n  return numerator/(np.sqrt(LHS*RHS))\n"
     ]
    },
    {
     "name": "stdout",
     "output_type": "stream",
     "text": [
      "200 13.980396795272828 minutes\n"
     ]
    },
    {
     "name": "stderr",
     "output_type": "stream",
     "text": [
      "/home/tahereh/Codes/Github/Mapping/MappingV36.py:165: RuntimeWarning: invalid value encountered in sqrt\n  return numerator/(np.sqrt(LHS*RHS))\n"
     ]
    },
    {
     "name": "stdout",
     "output_type": "stream",
     "text": [
      "210 14.905258425076802 minutes\n"
     ]
    },
    {
     "name": "stderr",
     "output_type": "stream",
     "text": [
      "/home/tahereh/Codes/Github/Mapping/MappingV36.py:165: RuntimeWarning: invalid value encountered in sqrt\n  return numerator/(np.sqrt(LHS*RHS))\n"
     ]
    },
    {
     "name": "stdout",
     "output_type": "stream",
     "text": [
      "220 15.79467693567276 minutes\n"
     ]
    },
    {
     "name": "stderr",
     "output_type": "stream",
     "text": [
      "/home/tahereh/Codes/Github/Mapping/MappingV36.py:165: RuntimeWarning: invalid value encountered in sqrt\n  return numerator/(np.sqrt(LHS*RHS))\n"
     ]
    },
    {
     "name": "stdout",
     "output_type": "stream",
     "text": [
      "230 16.686654925346375 minutes\n"
     ]
    },
    {
     "name": "stderr",
     "output_type": "stream",
     "text": [
      "/home/tahereh/Codes/Github/Mapping/MappingV36.py:165: RuntimeWarning: invalid value encountered in sqrt\n  return numerator/(np.sqrt(LHS*RHS))\n"
     ]
    },
    {
     "name": "stdout",
     "output_type": "stream",
     "text": [
      "240 17.574154114723207 minutes\n"
     ]
    },
    {
     "name": "stderr",
     "output_type": "stream",
     "text": [
      "/home/tahereh/Codes/Github/Mapping/MappingV36.py:165: RuntimeWarning: invalid value encountered in sqrt\n  return numerator/(np.sqrt(LHS*RHS))\n"
     ]
    },
    {
     "name": "stdout",
     "output_type": "stream",
     "text": [
      "250 18.510852122306822 minutes\n"
     ]
    },
    {
     "name": "stderr",
     "output_type": "stream",
     "text": [
      "/home/tahereh/Codes/Github/Mapping/MappingV36.py:165: RuntimeWarning: invalid value encountered in sqrt\n  return numerator/(np.sqrt(LHS*RHS))\n"
     ]
    },
    {
     "name": "stdout",
     "output_type": "stream",
     "text": [
      "260 19.379693873723348 minutes\n"
     ]
    },
    {
     "name": "stderr",
     "output_type": "stream",
     "text": [
      "/home/tahereh/Codes/Github/Mapping/MappingV36.py:165: RuntimeWarning: invalid value encountered in sqrt\n  return numerator/(np.sqrt(LHS*RHS))\n"
     ]
    },
    {
     "name": "stdout",
     "output_type": "stream",
     "text": [
      "270 20.24902016321818 minutes\n"
     ]
    },
    {
     "name": "stdout",
     "output_type": "stream",
     "text": [
      "Model1 done\n"
     ]
    },
    {
     "name": "stderr",
     "output_type": "stream",
     "text": [
      "/home/tahereh/Codes/Github/Mapping/MappingV36.py:165: RuntimeWarning: invalid value encountered in sqrt\n  return numerator/(np.sqrt(LHS*RHS))\n"
     ]
    }
   ],
   "source": [
    "   \n",
    "\n",
    "importlib.reload(MappingV36)\n",
    "from MappingV36 import MappingV36 as Mapping\n",
    "Mapping = Mapping()\n",
    "get_consistency = Mapping.get_consistency\n",
    "r_sites_fixed_1, r_sites_flexible_1, list_acceptable_neurons_1 = get_consistency(reg_method, reg_params,  model1,inds1, inds2,  Neu_trial, train_inds, test_inds, time_interval_fixed, flexible_times, times)\n",
    "\n",
    "\n",
    "datalist = [r_sites_fixed_1, r_sites_flexible_1, list_acceptable_neurons_1, flexible_times, time_interval_fixed, reg_method, reg_params]\n",
    "filename = resultdir+'model%s_IT_fixedflexible.pickle'%model_layer1\n",
    "pickle.dump(datalist, open(filename, 'wb'))\n",
    "print('Model1 done')\n",
    "\n",
    "# r_sites_fixed_2, r_sites_flexible_2, list_acceptable_neurons_2 = get_consistency(reg_method, reg_params, model2, inds1, inds2,  Neu_trial, train_inds, test_inds, time_interval_fixed, flexible_times, times)\n",
    "# print('Model2 done')\n",
    "# \n",
    "# \n",
    "# datalist = [r_sites_fixed_2, r_sites_flexible_2, list_acceptable_neurons_2, flexible_times, time_interval_fixed, reg_method, reg_params]\n",
    "# filename = resultdir+'model%s_IT_fixedflexible.pickle'%model_layer2\n",
    "# pickle.dump(datalist, open(filename, 'wb'))"
   ]
  },
  {
   "cell_type": "code",
   "execution_count": 13,
   "metadata": {},
   "outputs": [
    {
     "data": {
      "text/plain": [
       "[<matplotlib.lines.Line2D at 0x7f2a43d6f198>]"
      ]
     },
     "execution_count": 13,
     "metadata": {},
     "output_type": "execute_result"
    },
    {
     "data": {
      "image/png": "[encoded data removed]",
      "text/plain": [
       "<Figure size 432x288 with 1 Axes>"
      ]
     },
     "metadata": {},
     "output_type": "display_data"
    }
   ],
   "source": [
    "\n",
    "\n",
    "\n",
    "import numpy as np\n",
    "import matplotlib.pylab as plt\n",
    "%matplotlib inline\n",
    "plt.plot(flexible_times, np.mean(r_sites_fixed_1[3,list_acceptable_neurons_1,:],0), lw=2, ls='-', color='b')\n",
    "plt.plot(flexible_times, np.mean(r_sites_flexible_1[3,list_acceptable_neurons_1,:], 0), lw=2, ls='--', color = 'b')\n",
    "\n"
   ]
  },
  {
   "cell_type": "code",
   "execution_count": 22,
   "metadata": {},
   "outputs": [
    {
     "data": {
      "text/plain": [
       "[<matplotlib.lines.Line2D at 0x7f1253ef5780>]"
      ]
     },
     "execution_count": 22,
     "metadata": {},
     "output_type": "execute_result"
    },
    {
     "data": {
      "image/png": "[encoded data removed]",
      "text/plain": [
       "<Figure size 432x288 with 1 Axes>"
      ]
     },
     "metadata": {},
     "output_type": "display_data"
    }
   ],
   "source": [
    "import numpy as np\n",
    "import matplotlib.pylab as plt\n",
    "%matplotlib inline\n",
    "plt.plot(flexible_times, np.mean(r_sites_fixed_1[3,list_acceptable_neurons_1,:],0), lw=2, ls='-', color='b')\n",
    "plt.plot(flexible_times, np.mean(r_sites_flexible_1[3,list_acceptable_neurons_1,:], 0), lw=2, ls='--', color = 'b')\n",
    "\n",
    "plt.plot(flexible_times, np.mean(r_sites_fixed_2[3,list_acceptable_neurons_2,:],0), lw=2, ls='-', color = 'r')\n",
    "plt.plot(flexible_times, np.mean(r_sites_flexible_2[3,list_acceptable_neurons_2,:], 0), lw=2, ls='--', color = 'r')"
   ]
  },
  {
   "cell_type": "code",
   "execution_count": 7,
   "metadata": {},
   "outputs": [],
   "source": [
    "r2XAB = (r2AX +r2BX -2*np.sqrt(r2AX)*np.sqrt(r2BX)*rAB)/(1-np.square(rAB))"
   ]
  },
  {
   "cell_type": "code",
   "execution_count": 7,
   "metadata": {},
   "outputs": [],
   "source": []
  },
  {
   "cell_type": "code",
   "execution_count": 7,
   "metadata": {},
   "outputs": [],
   "source": []
  },
  {
   "cell_type": "code",
   "execution_count": 7,
   "metadata": {},
   "outputs": [],
   "source": []
  }
 ],
 "metadata": {
  "kernelspec": {
   "display_name": "Python 2",
   "language": "python",
   "name": "python2"
  },
  "language_info": {
   "codemirror_mode": {
    "name": "ipython",
    "version": 2
   },
   "file_extension": ".py",
   "mimetype": "text/x-python",
   "name": "python",
   "nbconvert_exporter": "python",
   "pygments_lexer": "ipython2",
   "version": "2.7.6"
  }
 },
 "nbformat": 4,
 "nbformat_minor": 0
}
