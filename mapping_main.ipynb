{
 "cells": [
  {
   "cell_type": "code",
   "execution_count": null,
   "metadata": {
    "collapsed": true
   },
   "outputs": [],
   "source": [
    "%reset"
   ]
  },
  {
   "cell_type": "code",
   "execution_count": 1,
   "metadata": {},
   "outputs": [],
   "source": [
    "host = 'SYNPAI' #'habanero'\n",
    "if host == 'habanero':\n",
    "    resultdir ='/rigel/issa/users/Tahereh/Results/'\n",
    "    neuraldir = '/rigel/issa/users/Tahereh/models/neural_features/'\n",
    "    modeldir = '/rigel/issa/users/Tahereh/models/'\n",
    "    datadir = '/rigel/issa/users/Tahereh/Data/DiCarlo/'\n",
    "elif host =='Mac':\n",
    "    resultdir ='/Users/tahereh/Documents/Results/invertibility/error coding in visual cortex/'\n",
    "    neuraldir = '/Users/tahereh/Documents/Results/invertibility/error coding in visual cortex/models/neural_features/'\n",
    "    modeldir ='/Users/tahereh/Documents/Results/invertibility/error coding in visual cortex/models/'\n",
    "    datadir = '/Users/Tahereh/Documents/Data/DiCarlo'\n",
    "elif host == 'SYNPAI':\n",
    "    resultdir = '/home/tahereh/Documents/Research/Results/Neural-Dynamics/'\n",
    "    neuralfeaturesdir = '/home/tahereh/Documents/Research/features/neural_features/'\n",
    "    modeldir =  '/home/tahereh/Documents/Research/features/'\n",
    "    datadir =  '/home/tahereh/Documents/Research/Data/DiCarlo/'\n",
    "    # %pylab inline\n",
    "    # pylab.rcParams['xtick.color'] = 'white'\n",
    "    # pylab.rcParams['ytick.color'] = 'white'\n",
    "    # # pylab.rcParams['figsize'] = [6,4]\n",
    "    "
   ]
  },
  {
   "cell_type": "code",
   "execution_count": 26,
   "metadata": {},
   "outputs": [
    {
     "name": "stdout",
     "output_type": "stream",
     "text": [
      "The global vars?\n"
     ]
    }
   ],
   "source": [
    "import MappingV36\n",
    "from MappingV36 import MappingV36 as Mapping\n",
    "from ReadMeta import ReadMeta\n",
    "from ReadData import ReadData\n",
    "from ReadModel import ReadModel\n",
    "\n",
    "import pickle\n",
    "import h5py\n",
    "import numpy as np\n",
    "import matplotlib.pylab as plt\n",
    "%matplotlib inline\n",
    "\n",
    "import importlib\n",
    "Mapping = Mapping()\n",
    "\n"
   ]
  },
  {
   "cell_type": "code",
   "execution_count": 3,
   "metadata": {},
   "outputs": [
    {
     "name": "stdout",
     "output_type": "stream",
     "text": [
      "/home/tahereh/Documents/Research/features/neural_features/\n"
     ]
    }
   ],
   "source": [
    "\n",
    "# Read Meta\n",
    "Meta = ReadMeta(neuralfeaturesdir)\n",
    "DF_img = Meta.get_DF_img()\n",
    "DF_neu = Meta.get_DF_neu()\n",
    "times = Meta.get_times()\n",
    "\n",
    "# Read Neural data\n",
    "Data = ReadData(datadir, DF_neu)\n",
    "IT, V4 = Data.get_data()"
   ]
  },
  {
   "cell_type": "code",
   "execution_count": 20,
   "metadata": {},
   "outputs": [],
   "source": [
    "\n",
    "# get_consistencies\n",
    "region = 'IT'\n",
    "time_interval_fixed = [70, 130]\n",
    "flexible_times = np.arange(70, 280, 10)\n",
    "itr = 0    \n",
    "pseed = itr\n",
    "\n",
    "trial_split = Mapping.trial_split\n",
    "inds1, inds2 = trial_split(pseed)\n",
    "mean_trial_split = Mapping.mean_trial_split\n",
    "get_Neu_trial_V36 = Mapping.get_Neu_trial_V36\n",
    "half1, half2 = mean_trial_split(inds1, inds2, get_Neu_trial_V36(IT[1:], time_interval_fixed, times))\n",
    "train_test_split_objV36 = Mapping.train_test_split_objV36\n",
    "test_size = 0.2\n",
    "train_inds,test_inds = train_test_split_objV36(DF_img, test_size)\n"
   ]
  },
  {
   "cell_type": "code",
   "execution_count": 14,
   "metadata": {},
   "outputs": [],
   "source": [
    "Neu_trial = IT[1:]\n",
    "reg_method = 'ridge'#  'PLS'#'ridge'\n",
    "\n",
    "if reg_method == 'PLS':\n",
    "    n_components = 25\n",
    "    reg_params = n_components\n",
    "elif reg_method == 'ridge':\n",
    "    reg_params =[]\n",
    "    n_components = 500\n",
    "\n",
    "\n",
    "n_components_PCA = 500\n",
    "folder_name = 'HvM_forward_features/'\n",
    "# Model 1\n",
    "# Read Model\n",
    "model_layer1 = 'conv5'\n",
    "Model = ReadModel(model_layer1, modeldir, True, n_components_PCA)\n",
    "model1 = Model.get_model()[640:,:]\n",
    "\n",
    "\n",
    "filename = modeldir+'%s/500PCA/%dcmps_%s.h5'%(folder_name, n_components_PCA, model_layer1)\n",
    "h5f = h5py.File(filename, 'w')\n",
    "h5f.create_dataset('model_layer', data=model1)\n",
    "h5f.close()\n",
    "\n",
    "# Model 2\n",
    "# Read Model\n",
    "model_layer2 = 'resnet_layer4'\n",
    "Model = ReadModel(model_layer2, modeldir, True, n_components_PCA)\n",
    "model2 = Model.get_model()[640:,:]\n",
    "\n",
    "\n",
    "filename = modeldir+'%s/500PCA/%dcmps_%s.h5'%(folder_name, n_components_PCA, model_layer2)\n",
    "h5f = h5py.File(filename, 'w')\n",
    "h5f.create_dataset('model_layer', data=model2)\n",
    "h5f.close()\n"
   ]
  },
  {
   "cell_type": "code",
   "execution_count": 21,
   "metadata": {},
   "outputs": [
    {
     "name": "stdout",
     "output_type": "stream",
     "text": [
      "The global vars?\n"
     ]
    },
    {
     "name": "stdout",
     "output_type": "stream",
     "text": [
      "0.33751231829325357 minutes\n0.3375173012415568 minutes\n70 0.3375179370244344 minutes\n"
     ]
    },
    {
     "name": "stderr",
     "output_type": "stream",
     "text": [
      "/home/tahereh/Codes/Mapping_models_data/MappingV36.py:161: RuntimeWarning: invalid value encountered in sqrt\n  return nominator/(np.sqrt(LHS*RHS))\n"
     ]
    },
    {
     "name": "stderr",
     "output_type": "stream",
     "text": [
      "/home/tahereh/Codes/Mapping_models_data/MappingV36.py:161: RuntimeWarning: invalid value encountered in sqrt\n  return nominator/(np.sqrt(LHS*RHS))\n"
     ]
    },
    {
     "name": "stdout",
     "output_type": "stream",
     "text": [
      "80 0.7285880843798319 minutes\n"
     ]
    },
    {
     "name": "stderr",
     "output_type": "stream",
     "text": [
      "/home/tahereh/Codes/Mapping_models_data/MappingV36.py:161: RuntimeWarning: invalid value encountered in sqrt\n  return nominator/(np.sqrt(LHS*RHS))\n"
     ]
    },
    {
     "name": "stdout",
     "output_type": "stream",
     "text": [
      "90 1.1076083024342855 minutes\n"
     ]
    },
    {
     "name": "stderr",
     "output_type": "stream",
     "text": [
      "/home/tahereh/Codes/Mapping_models_data/MappingV36.py:161: RuntimeWarning: invalid value encountered in sqrt\n  return nominator/(np.sqrt(LHS*RHS))\n"
     ]
    },
    {
     "name": "stdout",
     "output_type": "stream",
     "text": [
      "100 1.4854364395141602 minutes\n"
     ]
    },
    {
     "name": "stderr",
     "output_type": "stream",
     "text": [
      "/home/tahereh/Codes/Mapping_models_data/MappingV36.py:161: RuntimeWarning: invalid value encountered in sqrt\n  return nominator/(np.sqrt(LHS*RHS))\n"
     ]
    },
    {
     "name": "stdout",
     "output_type": "stream",
     "text": [
      "110 1.8639454285303751 minutes\n"
     ]
    },
    {
     "name": "stderr",
     "output_type": "stream",
     "text": [
      "/home/tahereh/Codes/Mapping_models_data/MappingV36.py:161: RuntimeWarning: invalid value encountered in sqrt\n  return nominator/(np.sqrt(LHS*RHS))\n"
     ]
    },
    {
     "name": "stdout",
     "output_type": "stream",
     "text": [
      "120 2.2374158183733623 minutes\n"
     ]
    },
    {
     "name": "stderr",
     "output_type": "stream",
     "text": [
      "/home/tahereh/Codes/Mapping_models_data/MappingV36.py:161: RuntimeWarning: invalid value encountered in sqrt\n  return nominator/(np.sqrt(LHS*RHS))\n"
     ]
    },
    {
     "name": "stdout",
     "output_type": "stream",
     "text": [
      "130 2.62478688955307 minutes\n"
     ]
    },
    {
     "name": "stderr",
     "output_type": "stream",
     "text": [
      "/home/tahereh/Codes/Mapping_models_data/MappingV36.py:161: RuntimeWarning: invalid value encountered in sqrt\n  return nominator/(np.sqrt(LHS*RHS))\n"
     ]
    },
    {
     "name": "stdout",
     "output_type": "stream",
     "text": [
      "140 3.009159318606059 minutes\n"
     ]
    },
    {
     "name": "stderr",
     "output_type": "stream",
     "text": [
      "/home/tahereh/Codes/Mapping_models_data/MappingV36.py:161: RuntimeWarning: invalid value encountered in sqrt\n  return nominator/(np.sqrt(LHS*RHS))\n"
     ]
    },
    {
     "name": "stdout",
     "output_type": "stream",
     "text": [
      "150 3.3826983014742535 minutes\n"
     ]
    },
    {
     "name": "stderr",
     "output_type": "stream",
     "text": [
      "/home/tahereh/Codes/Mapping_models_data/MappingV36.py:161: RuntimeWarning: invalid value encountered in sqrt\n  return nominator/(np.sqrt(LHS*RHS))\n"
     ]
    },
    {
     "name": "stdout",
     "output_type": "stream",
     "text": [
      "160 3.8113890290260315 minutes\n"
     ]
    },
    {
     "name": "stderr",
     "output_type": "stream",
     "text": [
      "/home/tahereh/Codes/Mapping_models_data/MappingV36.py:161: RuntimeWarning: invalid value encountered in sqrt\n  return nominator/(np.sqrt(LHS*RHS))\n"
     ]
    },
    {
     "name": "stdout",
     "output_type": "stream",
     "text": [
      "170 4.1983463327089945 minutes\n"
     ]
    },
    {
     "name": "stdout",
     "output_type": "stream",
     "text": [
      "180 4.597207868099213 minutes\n"
     ]
    },
    {
     "name": "stderr",
     "output_type": "stream",
     "text": [
      "/home/tahereh/Codes/Mapping_models_data/MappingV36.py:161: RuntimeWarning: invalid value encountered in sqrt\n  return nominator/(np.sqrt(LHS*RHS))\n"
     ]
    },
    {
     "name": "stderr",
     "output_type": "stream",
     "text": [
      "/home/tahereh/Codes/Mapping_models_data/MappingV36.py:161: RuntimeWarning: invalid value encountered in sqrt\n  return nominator/(np.sqrt(LHS*RHS))\n"
     ]
    },
    {
     "name": "stdout",
     "output_type": "stream",
     "text": [
      "190 4.998350814978282 minutes\n"
     ]
    },
    {
     "name": "stderr",
     "output_type": "stream",
     "text": [
      "/home/tahereh/Codes/Mapping_models_data/MappingV36.py:161: RuntimeWarning: invalid value encountered in sqrt\n  return nominator/(np.sqrt(LHS*RHS))\n"
     ]
    },
    {
     "name": "stdout",
     "output_type": "stream",
     "text": [
      "200 5.405165028572083 minutes\n"
     ]
    },
    {
     "name": "stderr",
     "output_type": "stream",
     "text": [
      "/home/tahereh/Codes/Mapping_models_data/MappingV36.py:161: RuntimeWarning: invalid value encountered in sqrt\n  return nominator/(np.sqrt(LHS*RHS))\n"
     ]
    },
    {
     "name": "stdout",
     "output_type": "stream",
     "text": [
      "210 5.826370966434479 minutes\n"
     ]
    },
    {
     "name": "stderr",
     "output_type": "stream",
     "text": [
      "/home/tahereh/Codes/Mapping_models_data/MappingV36.py:161: RuntimeWarning: invalid value encountered in sqrt\n  return nominator/(np.sqrt(LHS*RHS))\n"
     ]
    },
    {
     "name": "stdout",
     "output_type": "stream",
     "text": [
      "220 6.198478968938192 minutes\n"
     ]
    },
    {
     "name": "stderr",
     "output_type": "stream",
     "text": [
      "/home/tahereh/Codes/Mapping_models_data/MappingV36.py:161: RuntimeWarning: invalid value encountered in sqrt\n  return nominator/(np.sqrt(LHS*RHS))\n"
     ]
    },
    {
     "name": "stdout",
     "output_type": "stream",
     "text": [
      "230 6.59182722568512 minutes\n"
     ]
    },
    {
     "name": "stderr",
     "output_type": "stream",
     "text": [
      "/home/tahereh/Codes/Mapping_models_data/MappingV36.py:161: RuntimeWarning: invalid value encountered in sqrt\n  return nominator/(np.sqrt(LHS*RHS))\n"
     ]
    },
    {
     "name": "stdout",
     "output_type": "stream",
     "text": [
      "240 6.988961942990621 minutes\n"
     ]
    },
    {
     "name": "stderr",
     "output_type": "stream",
     "text": [
      "/home/tahereh/Codes/Mapping_models_data/MappingV36.py:161: RuntimeWarning: invalid value encountered in sqrt\n  return nominator/(np.sqrt(LHS*RHS))\n"
     ]
    },
    {
     "name": "stdout",
     "output_type": "stream",
     "text": [
      "250 7.393108487129211 minutes\n"
     ]
    },
    {
     "name": "stderr",
     "output_type": "stream",
     "text": [
      "/home/tahereh/Codes/Mapping_models_data/MappingV36.py:161: RuntimeWarning: invalid value encountered in sqrt\n  return nominator/(np.sqrt(LHS*RHS))\n"
     ]
    },
    {
     "name": "stdout",
     "output_type": "stream",
     "text": [
      "260 7.779841017723084 minutes\n"
     ]
    },
    {
     "name": "stderr",
     "output_type": "stream",
     "text": [
      "/home/tahereh/Codes/Mapping_models_data/MappingV36.py:161: RuntimeWarning: invalid value encountered in sqrt\n  return nominator/(np.sqrt(LHS*RHS))\n"
     ]
    },
    {
     "name": "stdout",
     "output_type": "stream",
     "text": [
      "270 8.1861061612765 minutes\n"
     ]
    },
    {
     "name": "stderr",
     "output_type": "stream",
     "text": [
      "/home/tahereh/Codes/Mapping_models_data/MappingV36.py:161: RuntimeWarning: invalid value encountered in sqrt\n  return nominator/(np.sqrt(LHS*RHS))\n"
     ]
    },
    {
     "name": "stdout",
     "output_type": "stream",
     "text": [
      "Model1 done\n"
     ]
    },
    {
     "name": "stdout",
     "output_type": "stream",
     "text": [
      "0.3724947810173035 minutes\n0.3725065509478251 minutes\n70 0.37250725030899046 minutes\n"
     ]
    },
    {
     "name": "stderr",
     "output_type": "stream",
     "text": [
      "/home/tahereh/Codes/Mapping_models_data/MappingV36.py:161: RuntimeWarning: invalid value encountered in sqrt\n  return nominator/(np.sqrt(LHS*RHS))\n"
     ]
    },
    {
     "name": "stderr",
     "output_type": "stream",
     "text": [
      "/home/tahereh/Codes/Mapping_models_data/MappingV36.py:161: RuntimeWarning: invalid value encountered in sqrt\n  return nominator/(np.sqrt(LHS*RHS))\n"
     ]
    },
    {
     "name": "stdout",
     "output_type": "stream",
     "text": [
      "80 0.7793583671251932 minutes\n"
     ]
    },
    {
     "name": "stderr",
     "output_type": "stream",
     "text": [
      "/home/tahereh/Codes/Mapping_models_data/MappingV36.py:161: RuntimeWarning: invalid value encountered in sqrt\n  return nominator/(np.sqrt(LHS*RHS))\n"
     ]
    },
    {
     "name": "stdout",
     "output_type": "stream",
     "text": [
      "90 1.1674436489741007 minutes\n"
     ]
    },
    {
     "name": "stderr",
     "output_type": "stream",
     "text": [
      "/home/tahereh/Codes/Mapping_models_data/MappingV36.py:161: RuntimeWarning: invalid value encountered in sqrt\n  return nominator/(np.sqrt(LHS*RHS))\n"
     ]
    },
    {
     "name": "stdout",
     "output_type": "stream",
     "text": [
      "100 1.5493967016537984 minutes\n"
     ]
    },
    {
     "name": "stderr",
     "output_type": "stream",
     "text": [
      "/home/tahereh/Codes/Mapping_models_data/MappingV36.py:161: RuntimeWarning: invalid value encountered in sqrt\n  return nominator/(np.sqrt(LHS*RHS))\n"
     ]
    },
    {
     "name": "stdout",
     "output_type": "stream",
     "text": [
      "110 1.9540856639544169 minutes\n"
     ]
    },
    {
     "name": "stderr",
     "output_type": "stream",
     "text": [
      "/home/tahereh/Codes/Mapping_models_data/MappingV36.py:161: RuntimeWarning: invalid value encountered in sqrt\n  return nominator/(np.sqrt(LHS*RHS))\n"
     ]
    },
    {
     "name": "stdout",
     "output_type": "stream",
     "text": [
      "120 2.3568662921587626 minutes\n"
     ]
    },
    {
     "name": "stdout",
     "output_type": "stream",
     "text": [
      "130 2.754472001393636 minutes\n"
     ]
    },
    {
     "name": "stderr",
     "output_type": "stream",
     "text": [
      "/home/tahereh/Codes/Mapping_models_data/MappingV36.py:161: RuntimeWarning: invalid value encountered in sqrt\n  return nominator/(np.sqrt(LHS*RHS))\n"
     ]
    },
    {
     "name": "stderr",
     "output_type": "stream",
     "text": [
      "/home/tahereh/Codes/Mapping_models_data/MappingV36.py:161: RuntimeWarning: invalid value encountered in sqrt\n  return nominator/(np.sqrt(LHS*RHS))\n"
     ]
    },
    {
     "name": "stdout",
     "output_type": "stream",
     "text": [
      "140 3.153660186131795 minutes\n"
     ]
    },
    {
     "name": "stderr",
     "output_type": "stream",
     "text": [
      "/home/tahereh/Codes/Mapping_models_data/MappingV36.py:161: RuntimeWarning: invalid value encountered in sqrt\n  return nominator/(np.sqrt(LHS*RHS))\n"
     ]
    },
    {
     "name": "stdout",
     "output_type": "stream",
     "text": [
      "150 3.558727733294169 minutes\n"
     ]
    },
    {
     "name": "stderr",
     "output_type": "stream",
     "text": [
      "/home/tahereh/Codes/Mapping_models_data/MappingV36.py:161: RuntimeWarning: invalid value encountered in sqrt\n  return nominator/(np.sqrt(LHS*RHS))\n"
     ]
    },
    {
     "name": "stdout",
     "output_type": "stream",
     "text": [
      "160 3.984348249435425 minutes\n"
     ]
    },
    {
     "name": "stderr",
     "output_type": "stream",
     "text": [
      "/home/tahereh/Codes/Mapping_models_data/MappingV36.py:161: RuntimeWarning: invalid value encountered in sqrt\n  return nominator/(np.sqrt(LHS*RHS))\n"
     ]
    },
    {
     "name": "stdout",
     "output_type": "stream",
     "text": [
      "170 4.390313021341959 minutes\n"
     ]
    },
    {
     "name": "stderr",
     "output_type": "stream",
     "text": [
      "/home/tahereh/Codes/Mapping_models_data/MappingV36.py:161: RuntimeWarning: invalid value encountered in sqrt\n  return nominator/(np.sqrt(LHS*RHS))\n"
     ]
    },
    {
     "name": "stdout",
     "output_type": "stream",
     "text": [
      "180 4.8249488512674965 minutes\n"
     ]
    },
    {
     "name": "stderr",
     "output_type": "stream",
     "text": [
      "/home/tahereh/Codes/Mapping_models_data/MappingV36.py:161: RuntimeWarning: invalid value encountered in sqrt\n  return nominator/(np.sqrt(LHS*RHS))\n"
     ]
    },
    {
     "name": "stdout",
     "output_type": "stream",
     "text": [
      "190 5.244042150179545 minutes\n"
     ]
    },
    {
     "name": "stderr",
     "output_type": "stream",
     "text": [
      "/home/tahereh/Codes/Mapping_models_data/MappingV36.py:161: RuntimeWarning: invalid value encountered in sqrt\n  return nominator/(np.sqrt(LHS*RHS))\n"
     ]
    },
    {
     "name": "stdout",
     "output_type": "stream",
     "text": [
      "200 5.644622087478638 minutes\n"
     ]
    },
    {
     "name": "stderr",
     "output_type": "stream",
     "text": [
      "/home/tahereh/Codes/Mapping_models_data/MappingV36.py:161: RuntimeWarning: invalid value encountered in sqrt\n  return nominator/(np.sqrt(LHS*RHS))\n"
     ]
    },
    {
     "name": "stdout",
     "output_type": "stream",
     "text": [
      "210 6.054947396119435 minutes\n"
     ]
    },
    {
     "name": "stderr",
     "output_type": "stream",
     "text": [
      "/home/tahereh/Codes/Mapping_models_data/MappingV36.py:161: RuntimeWarning: invalid value encountered in sqrt\n  return nominator/(np.sqrt(LHS*RHS))\n"
     ]
    },
    {
     "name": "stdout",
     "output_type": "stream",
     "text": [
      "220 6.440287907918294 minutes\n"
     ]
    },
    {
     "name": "stderr",
     "output_type": "stream",
     "text": [
      "/home/tahereh/Codes/Mapping_models_data/MappingV36.py:161: RuntimeWarning: invalid value encountered in sqrt\n  return nominator/(np.sqrt(LHS*RHS))\n"
     ]
    },
    {
     "name": "stdout",
     "output_type": "stream",
     "text": [
      "230 6.82506844997406 minutes\n"
     ]
    },
    {
     "name": "stderr",
     "output_type": "stream",
     "text": [
      "/home/tahereh/Codes/Mapping_models_data/MappingV36.py:161: RuntimeWarning: invalid value encountered in sqrt\n  return nominator/(np.sqrt(LHS*RHS))\n"
     ]
    },
    {
     "name": "stdout",
     "output_type": "stream",
     "text": [
      "240 7.24882294734319 minutes\n"
     ]
    },
    {
     "name": "stderr",
     "output_type": "stream",
     "text": [
      "/home/tahereh/Codes/Mapping_models_data/MappingV36.py:161: RuntimeWarning: invalid value encountered in sqrt\n  return nominator/(np.sqrt(LHS*RHS))\n"
     ]
    },
    {
     "name": "stdout",
     "output_type": "stream",
     "text": [
      "250 7.646934700012207 minutes\n"
     ]
    },
    {
     "name": "stderr",
     "output_type": "stream",
     "text": [
      "/home/tahereh/Codes/Mapping_models_data/MappingV36.py:161: RuntimeWarning: invalid value encountered in sqrt\n  return nominator/(np.sqrt(LHS*RHS))\n"
     ]
    },
    {
     "name": "stdout",
     "output_type": "stream",
     "text": [
      "260 8.062352120876312 minutes\n"
     ]
    },
    {
     "name": "stderr",
     "output_type": "stream",
     "text": [
      "/home/tahereh/Codes/Mapping_models_data/MappingV36.py:161: RuntimeWarning: invalid value encountered in sqrt\n  return nominator/(np.sqrt(LHS*RHS))\n"
     ]
    },
    {
     "name": "stdout",
     "output_type": "stream",
     "text": [
      "270 8.507095086574555 minutes\n"
     ]
    },
    {
     "name": "stdout",
     "output_type": "stream",
     "text": [
      "Model2 done\n"
     ]
    },
    {
     "name": "stderr",
     "output_type": "stream",
     "text": [
      "/home/tahereh/Codes/Mapping_models_data/MappingV36.py:161: RuntimeWarning: invalid value encountered in sqrt\n  return nominator/(np.sqrt(LHS*RHS))\n"
     ]
    }
   ],
   "source": [
    "   \n",
    "\n",
    "importlib.reload(MappingV36)\n",
    "from MappingV36 import MappingV36 as Mapping\n",
    "Mapping = Mapping()\n",
    "get_consistency = Mapping.get_consistency\n",
    "r_sites_fixed_1, r_sites_flexible_1, list_acceptable_neurons_1 = get_consistency(reg_method, reg_params,  model1,inds1, inds2,  Neu_trial, train_inds, test_inds, time_interval_fixed, flexible_times, times)\n",
    "\n",
    "\n",
    "datalist = [r_sites_fixed_1, r_sites_flexible_1, list_acceptable_neurons_1, flexible_times, time_interval_fixed, reg_method, reg_params]\n",
    "filename = resultdir+'model%s_IT_fixedflexible.pickle'%model_layer1\n",
    "pickle.dump(datalist, open(filename, 'wb'))\n",
    "print('Model1 done')\n",
    "\n",
    "r_sites_fixed_2, r_sites_flexible_2, list_acceptable_neurons_2 = get_consistency(reg_method, reg_params, model2, inds1, inds2,  Neu_trial, train_inds, test_inds, time_interval_fixed, flexible_times, times)\n",
    "print('Model2 done')\n",
    "\n",
    "\n",
    "datalist = [r_sites_fixed_2, r_sites_flexible_2, list_acceptable_neurons_2, flexible_times, time_interval_fixed, reg_method, reg_params]\n",
    "filename = resultdir+'model%s_IT_fixedflexible.pickle'%model_layer2\n",
    "pickle.dump(datalist, open(filename, 'wb'))"
   ]
  },
  {
   "cell_type": "code",
   "execution_count": 25,
   "metadata": {},
   "outputs": [],
   "source": [
    "\n",
    "\n",
    "\n"
   ]
  },
  {
   "cell_type": "code",
   "execution_count": 22,
   "metadata": {},
   "outputs": [
    {
     "data": {
      "text/plain": [
       "[<matplotlib.lines.Line2D at 0x7f1253ef5780>]"
      ]
     },
     "execution_count": 22,
     "metadata": {},
     "output_type": "execute_result"
    },
    {
     "data": {
      "image/png": "[encoded data removed]",
      "text/plain": [
       "<Figure size 432x288 with 1 Axes>"
      ]
     },
     "metadata": {},
     "output_type": "display_data"
    }
   ],
   "source": [
    "import numpy as np\n",
    "import matplotlib.pylab as plt\n",
    "%matplotlib inline\n",
    "plt.plot(flexible_times, np.mean(r_sites_fixed_1[3,list_acceptable_neurons_1,:],0), lw=2, ls='-', color='b')\n",
    "plt.plot(flexible_times, np.mean(r_sites_flexible_1[3,list_acceptable_neurons_1,:], 0), lw=2, ls='--', color = 'b')\n",
    "\n",
    "plt.plot(flexible_times, np.mean(r_sites_fixed_2[3,list_acceptable_neurons_2,:],0), lw=2, ls='-', color = 'r')\n",
    "plt.plot(flexible_times, np.mean(r_sites_flexible_2[3,list_acceptable_neurons_2,:], 0), lw=2, ls='--', color = 'r')"
   ]
  },
  {
   "cell_type": "code",
   "execution_count": 7,
   "metadata": {},
   "outputs": [],
   "source": [
    "r2XAB = (r2AX +r2BX -2*np.sqrt(r2AX)*np.sqrt(r2BX)*rAB)/(1-np.square(rAB))"
   ]
  },
  {
   "cell_type": "code",
   "execution_count": 7,
   "metadata": {},
   "outputs": [],
   "source": []
  },
  {
   "cell_type": "code",
   "execution_count": 7,
   "metadata": {},
   "outputs": [],
   "source": []
  },
  {
   "cell_type": "code",
   "execution_count": 7,
   "metadata": {},
   "outputs": [],
   "source": []
  }
 ],
 "metadata": {
  "kernelspec": {
   "display_name": "Python 2",
   "language": "python",
   "name": "python2"
  },
  "language_info": {
   "codemirror_mode": {
    "name": "ipython",
    "version": 2
   },
   "file_extension": ".py",
   "mimetype": "text/x-python",
   "name": "python",
   "nbconvert_exporter": "python",
   "pygments_lexer": "ipython2",
   "version": "2.7.6"
  }
 },
 "nbformat": 4,
 "nbformat_minor": 0
}
