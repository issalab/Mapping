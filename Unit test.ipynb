{
 "cells": [
  {
   "cell_type": "markdown",
   "metadata": {},
   "source": [
    "## r(data,data)"
   ]
  },
  {
   "cell_type": "code",
   "execution_count": 1,
   "metadata": {},
   "outputs": [],
   "source": [
    "host = 'SYNPAI' #'Mac' #'habanero'\n",
    "if host == 'habanero':\n",
    "    resultdir = '/rigel/issa/users/Tahereh/Results/'\n",
    "    \n",
    "elif host == 'Mac':\n",
    "    resultdir ='/Users/tahereh/Documents/Results/'\n",
    "    \n",
    "elif host == 'SYNPAI':\n",
    "    resultdir = '/home/tahereh/Documents/Research/Results/Neural-Dynamics/'"
   ]
  },
  {
   "cell_type": "code",
   "execution_count": null,
   "metadata": {},
   "outputs": [
    {
     "ename": "ImportError",
     "evalue": "No module named 'h2o4gpu'",
     "traceback": [
      "\u001b[0;31m---------------------------------------------------------------------------\u001b[0m",
      "\u001b[0;31mImportError\u001b[0m                               Traceback (most recent call last)",
      "\u001b[0;32m<ipython-input-9-361417812c89>\u001b[0m in \u001b[0;36m<module>\u001b[0;34m()\u001b[0m\n\u001b[1;32m      7\u001b[0m \u001b[0;32mimport\u001b[0m \u001b[0mimportlib\u001b[0m\u001b[0;34m\u001b[0m\u001b[0m\n\u001b[1;32m      8\u001b[0m \u001b[0;32mimport\u001b[0m \u001b[0mMappingV36\u001b[0m\u001b[0;34m\u001b[0m\u001b[0m\n\u001b[0;32m----> 9\u001b[0;31m \u001b[0mimportlib\u001b[0m\u001b[0;34m.\u001b[0m\u001b[0mreload\u001b[0m\u001b[0;34m(\u001b[0m\u001b[0mMappingV36\u001b[0m\u001b[0;34m)\u001b[0m\u001b[0;34m\u001b[0m\u001b[0m\n\u001b[0m\u001b[1;32m     10\u001b[0m \u001b[0;32mfrom\u001b[0m \u001b[0mMappingV36\u001b[0m \u001b[0;32mimport\u001b[0m \u001b[0mMappingV36\u001b[0m \u001b[0;32mas\u001b[0m \u001b[0mMapping\u001b[0m\u001b[0;34m\u001b[0m\u001b[0m\n\u001b[1;32m     11\u001b[0m \u001b[0mMapping\u001b[0m \u001b[0;34m=\u001b[0m \u001b[0mMapping\u001b[0m\u001b[0;34m(\u001b[0m\u001b[0;34m)\u001b[0m\u001b[0;34m\u001b[0m\u001b[0m\n",
      "\u001b[0;32m/home/tahereh/anaconda3/envs/pytorch_tensorflow/lib/python3.5/importlib/__init__.py\u001b[0m in \u001b[0;36mreload\u001b[0;34m(module)\u001b[0m\n\u001b[1;32m    164\u001b[0m         \u001b[0mtarget\u001b[0m \u001b[0;34m=\u001b[0m \u001b[0mmodule\u001b[0m\u001b[0;34m\u001b[0m\u001b[0m\n\u001b[1;32m    165\u001b[0m         \u001b[0mspec\u001b[0m \u001b[0;34m=\u001b[0m \u001b[0mmodule\u001b[0m\u001b[0;34m.\u001b[0m\u001b[0m__spec__\u001b[0m \u001b[0;34m=\u001b[0m \u001b[0m_bootstrap\u001b[0m\u001b[0;34m.\u001b[0m\u001b[0m_find_spec\u001b[0m\u001b[0;34m(\u001b[0m\u001b[0mname\u001b[0m\u001b[0;34m,\u001b[0m \u001b[0mpkgpath\u001b[0m\u001b[0;34m,\u001b[0m \u001b[0mtarget\u001b[0m\u001b[0;34m)\u001b[0m\u001b[0;34m\u001b[0m\u001b[0m\n\u001b[0;32m--> 166\u001b[0;31m         \u001b[0m_bootstrap\u001b[0m\u001b[0;34m.\u001b[0m\u001b[0m_exec\u001b[0m\u001b[0;34m(\u001b[0m\u001b[0mspec\u001b[0m\u001b[0;34m,\u001b[0m \u001b[0mmodule\u001b[0m\u001b[0;34m)\u001b[0m\u001b[0;34m\u001b[0m\u001b[0m\n\u001b[0m\u001b[1;32m    167\u001b[0m         \u001b[0;31m# The module may have replaced itself in sys.modules!\u001b[0m\u001b[0;34m\u001b[0m\u001b[0;34m\u001b[0m\u001b[0m\n\u001b[1;32m    168\u001b[0m         \u001b[0;32mreturn\u001b[0m \u001b[0msys\u001b[0m\u001b[0;34m.\u001b[0m\u001b[0mmodules\u001b[0m\u001b[0;34m[\u001b[0m\u001b[0mname\u001b[0m\u001b[0;34m]\u001b[0m\u001b[0;34m\u001b[0m\u001b[0m\n",
      "\u001b[0;32m/home/tahereh/anaconda3/envs/pytorch_tensorflow/lib/python3.5/importlib/_bootstrap.py\u001b[0m in \u001b[0;36m_exec\u001b[0;34m(spec, module)\u001b[0m\n",
      "\u001b[0;32m/home/tahereh/anaconda3/envs/pytorch_tensorflow/lib/python3.5/importlib/_bootstrap_external.py\u001b[0m in \u001b[0;36mexec_module\u001b[0;34m(self, module)\u001b[0m\n",
      "\u001b[0;32m/home/tahereh/anaconda3/envs/pytorch_tensorflow/lib/python3.5/importlib/_bootstrap.py\u001b[0m in \u001b[0;36m_call_with_frames_removed\u001b[0;34m(f, *args, **kwds)\u001b[0m\n",
      "\u001b[0;32m/home/tahereh/Codes/Mapping_models_data/MappingV36.py\u001b[0m in \u001b[0;36m<module>\u001b[0;34m()\u001b[0m\n\u001b[0;32m----> 1\u001b[0;31m \u001b[0;32mimport\u001b[0m \u001b[0mh2o4gpu\u001b[0m \u001b[0;32mas\u001b[0m \u001b[0msklearn\u001b[0m\u001b[0;34m\u001b[0m\u001b[0m\n\u001b[0m\u001b[1;32m      2\u001b[0m \u001b[0;32mimport\u001b[0m \u001b[0mscipy\u001b[0m\u001b[0;34m.\u001b[0m\u001b[0mstats\u001b[0m \u001b[0;32mas\u001b[0m \u001b[0mss\u001b[0m\u001b[0;34m\u001b[0m\u001b[0m\n\u001b[1;32m      3\u001b[0m \u001b[0;32mfrom\u001b[0m \u001b[0msklearn\u001b[0m\u001b[0;34m.\u001b[0m\u001b[0mcross_decomposition\u001b[0m \u001b[0;32mimport\u001b[0m \u001b[0mPLSRegression\u001b[0m\u001b[0;34m\u001b[0m\u001b[0m\n\u001b[1;32m      4\u001b[0m \u001b[0;32mfrom\u001b[0m \u001b[0msklearn\u001b[0m\u001b[0;34m.\u001b[0m\u001b[0mlinear_model\u001b[0m \u001b[0;32mimport\u001b[0m \u001b[0mRidgeCV\u001b[0m\u001b[0;34m\u001b[0m\u001b[0m\n\u001b[1;32m      5\u001b[0m \u001b[0;32mfrom\u001b[0m \u001b[0msklearn\u001b[0m\u001b[0;34m.\u001b[0m\u001b[0mlinear_model\u001b[0m \u001b[0;32mimport\u001b[0m \u001b[0mOrthogonalMatchingPursuitCV\u001b[0m\u001b[0;34m\u001b[0m\u001b[0m\n",
      "\u001b[0;31mImportError\u001b[0m: No module named 'h2o4gpu'"
     ],
     "output_type": "error"
    }
   ],
   "source": [
    "import pickle\n",
    "import time\n",
    "import numpy as np\n",
    "import matplotlib.pylab as plt\n",
    "%matplotlib inline\n",
    "import scipy.stats as ss\n"
   ]
  },
  {
   "cell_type": "code",
   "execution_count": null,
   "metadata": {},
   "outputs": [],
   "source": [
    "# ----------------\n",
    "    # Read data\n",
    "    # ----------------\n",
    "    # ni,nf,nt = 20,20,10\n",
    "    # reg_method,reg_params,Collinearity = 'ridge','[]',True\n",
    "\n",
    "    # ni,nf,nt = 20,20,10\n",
    "    # reg_method,reg_params,Collinearity = 'PLS',nf,True\n",
    "\n",
    "    # ni,nf,nt = 200,20,10\n",
    "    # reg_method,reg_params,Collinearity = 'ridge','[]',True\n",
    "\n",
    "    # ni,nf,nt = 200,20,10\n",
    "    # reg_method,reg_params,Collinearity = 'PLS',nf,True\n",
    "    #\n",
    "    #\n",
    "    #\n",
    "    # file = open(resultdir+'unit_test_%s_%s_ni%d_nf%d_nt%d_collinearity%s.pickle'%\\\n",
    "    #                             (reg_method,reg_params,ni,nf,nt,Collinearity),'rb')\n",
    "    # data_list = pickle.load(file)\n",
    "    # file.close()\n",
    "    r12, r11, r22, r12_reg, r11_reg, r22_reg, r12_reg_sitfit, r11_reg_sitfit, r22_reg_sitfit = data_list\n",
    "    # ----------------------------------------------------------\n",
    "\n",
    "    if reg_method == 'ridge':\n",
    "        color = 'r'\n",
    "    elif reg_method == 'PLS':\n",
    "        color = 'gray'\n",
    "    elif reg_method == 'OMP':\n",
    "        color = 'blue'\n",
    "\n",
    "    fig = plt.figure(figsize=[12, 5])\n",
    "    ax0 = fig.add_axes([0.1, 0.11, 0.25, 0.70])\n",
    "    ax1 = fig.add_axes([0.4, 0.11, 0.25, 0.70])\n",
    "    ax2 = fig.add_axes([0.7, 0.11, 0.25, 0.70])\n",
    "\n",
    "    ax0.scatter(np.sqrt(r11.mean(1)*r22.mean(1)), r12.mean(1), color = 'k', label ='Nom. vs. Denom.')\n",
    "    ax0.scatter(r22.mean(1), r11.mean(1), color=color, label='LHS vs. RHS')\n",
    "    ax0.plot([0, 1], [0, 1], ls='--', color='gray')\n",
    "\n",
    "    if reg_method != 'OMP':\n",
    "        ax1.scatter(np.sqrt(r11_reg.mean(1)*r22_reg.mean(1)), r12_reg.mean(1), color='k',\n",
    "                    label='Nom. vs. Denom.')\n",
    "        ax1.scatter(r22_reg.mean(1), r11_reg.mean(1), color=color, label='LHS vs. RHS')\n",
    "        ax1.plot([0, 1], [0, 1], ls='--', color='gray')\n",
    "\n",
    "    ax2.scatter(np.sqrt(r11_reg_sitfit.mean(1)*r22_reg_sitfit.mean(1)), r12_reg_sitfit.mean(1),\n",
    "                color='k', marker='x', label='Nom. vs. Denom.')\n",
    "    ax2.scatter(r22_reg_sitfit.mean(1), r11_reg_sitfit.mean(1), color=color, marker='x',\n",
    "                label='LHS vs. RHS')\n",
    "    ax2.plot([0, 1], [0, 1], ls='--', color='gray')\n",
    "\n",
    "    for ax in [ax0, ax2]:\n",
    "\n",
    "        ax.spines['right'].set_visible(False)\n",
    "        ax.spines['top'].set_visible(False)\n",
    "\n",
    "        ax.yaxis.set_ticks_position('left')\n",
    "        ax.xaxis.set_ticks_position('bottom')\n",
    "\n",
    "        handles, labels = ax.get_legend_handles_labels()\n",
    "        ax.legend(handles[:2], labels[:2], loc='upper left')\n",
    "\n",
    "    ax0.set_ylabel('r(model,data)_est OR r(model,model)')\n",
    "    ax1.set_yticks([])\n",
    "    ax0.set_title('VE=%.2f, N=%.2f, L= %.2f, R=%0.2f'%(np.nanmedian(r12/np.sqrt(r11*r22)), np.median(r12),\n",
    "                                                       np.median(r11), np.median(r22)))\n",
    "    ax0.text(0.0, 0.75, 'inversion', fontsize=14)\n",
    "    ax0.text(0.0, 0.71, corr_method_for_inv+'corr', fontsize=14)\n",
    "\n",
    "    if reg_method != 'OMP':\n",
    "        ax1.set_xlabel('r(model,model),r(data,data))^0.5 OR r(data,data)')\n",
    "        ax1.spines['right'].set_visible(False)\n",
    "        ax1.spines['top'].set_visible(False)\n",
    "\n",
    "        ax1.yaxis.set_ticks_position('left')\n",
    "        ax1.xaxis.set_ticks_position('bottom')\n",
    "\n",
    "        handles, labels = ax1.get_legend_handles_labels()\n",
    "        ax1.legend(handles[:2], labels[:2], loc='upper left')\n",
    "        ax1.text(0.0, 0.75, 'regression:%s'%reg_method, fontsize=14)\n",
    "        ax1.set_title('VE=%.2f, N=%.2f, L= %.2f, R=%0.2f'%(np.nanmedian(r12_reg/np.sqrt(r11_reg*r22_reg)), np.median(r12_reg),                                                   np.median(r11_reg),np.median(r22_reg)))\n",
    "    else:\n",
    "        ax1.set_xticks([])\n",
    "        ax1.axis('off')\n",
    "\n",
    "        ax0.set_xlabel('r(model,model),r(data,data))^0.5 OR r(data,data)')\n",
    "        ax2.set_xlabel('r(model,model),r(data,data))^0.5 OR r(data,data)')\n",
    "\n",
    "    print('Pinv: VarExp=%.3f, Num =%.3f, LHS= %.3f, RHS=%0.3f'%(np.nanmedian(r12/np.sqrt(r11*r22)),np.median(r12), np.median(r11), np.median(r22)))\n",
    "    print('Reg: VarExp=%.3f, Num =%.3f, LHS= %.3f, RHS=%0.3f'%(np.nanmedian(r12_reg/np.sqrt(r11_reg*r22_reg)), np.median(r12_reg), np.median(r11_reg), np.median(r22_reg)))\n",
    "    ax0.text(0.25, 1.2, '#images = %d, #features = %d, #trials = %d, Collinearity = %s, %s noise'%(ni, nf, nt, Collinearity,noise_dist), fontsize=14)\n",
    "\n",
    "    ax2.set_title('VE=%.2f, N=%.2f, L= %.2f, R=%0.2f'%(np.nanmedian(r12_reg_sitfit/np.sqrt(r11_reg_sitfit*r22_reg_sitfit)),np.median(r12_reg_sitfit), np.median(r11_reg_sitfit),np.median(r22_reg_sitfit)))\n",
    "    ax2.text(0.0,0.75,'regression-sitefit', fontsize=14)\n",
    "    ax2.text(0.0,0.65,'%s'%reg_method, fontsize=14)\n",
    "\n",
    "    print('Reg-sitefit: VarExp=%.3f, Num =%.3f, LHS= %.3f, RHS=%0.3f'%(np.nanmedian(r12_reg_sitfit/np.sqrt(r11_reg_sitfit*r22_reg_sitfit)),np.median(r12_reg_sitfit), np.median(r11_reg_sitfit), np.median(r22_reg_sitfit)))\n",
    "\n",
    "    plt.show()\n",
    "    fig.savefig(resultdir+'unit_test_%s_ni%d_nf%d_nt%d_Collin%s_%s_SB%s_%s.png'%(reg_method, ni, nf, nt, Collinearity, noise_dist, spearman_brown, corr_method_for_inv), dpi=300)\n",
    "    fig.savefig(resultdir+'unit_test_%s_ni%d_nf%d_nt%d_Collin%s_%s_SB%s_%s.pdf'%(reg_method, ni, nf, nt, Collinearity, noise_dist, spearman_brown, corr_method_for_inv), dpi=300)\n"
   ]
  },
  {
   "cell_type": "code",
   "execution_count": 7,
   "metadata": {},
   "outputs": [
    {
     "ename": "NameError",
     "evalue": "name 'time_sitefit' is not defined",
     "traceback": [
      "\u001b[0;31m---------------------------------------------------------------------------\u001b[0m",
      "\u001b[0;31mNameError\u001b[0m                                 Traceback (most recent call last)",
      "\u001b[0;32m<ipython-input-7-593acf0789fd>\u001b[0m in \u001b[0;36m<module>\u001b[0;34m()\u001b[0m\n\u001b[0;32m----> 1\u001b[0;31m \u001b[0mprint\u001b[0m\u001b[0;34m(\u001b[0m\u001b[0mtime_popfit\u001b[0m\u001b[0;34m,\u001b[0m \u001b[0mtime_sitefit\u001b[0m\u001b[0;34m)\u001b[0m\u001b[0;34m\u001b[0m\u001b[0m\n\u001b[0m",
      "\u001b[0;31mNameError\u001b[0m: name 'time_sitefit' is not defined"
     ],
     "output_type": "error"
    }
   ],
   "source": [
    "print(time_popfit, time_sitefit)"
   ]
  },
  {
   "cell_type": "code",
   "execution_count": 8,
   "metadata": {},
   "outputs": [
    {
     "name": "stdout",
     "output_type": "stream",
     "text": [
      "Pinv: VarExp=1.000, Num =0.887, LHS= 0.972, RHS=0.815\nReg: VarExp=1.057, Num =1.000, LHS= 0.997, RHS=0.898\nReg-sitefit: VarExp=nan, Num =0.000, LHS= 0.000, RHS=0.000\n"
     ]
    },
    {
     "name": "stderr",
     "output_type": "stream",
     "text": [
      "/home/tahereh/anaconda3/envs/pytorch_tensorflow/lib/python3.5/site-packages/ipykernel_launcher.py:99: RuntimeWarning: invalid value encountered in true_divide\n/home/tahereh/anaconda3/envs/pytorch_tensorflow/lib/python3.5/site-packages/numpy/lib/function_base.py:4033: RuntimeWarning: All-NaN slice encountered\n  r = func(a, **kwargs)\n/home/tahereh/anaconda3/envs/pytorch_tensorflow/lib/python3.5/site-packages/ipykernel_launcher.py:103: RuntimeWarning: invalid value encountered in true_divide\n"
     ]
    },
    {
     "data": {
      "image/png": "[encoded data removed]",
      "text/plain": [
       "<Figure size 864x288 with 3 Axes>"
      ]
     },
     "metadata": {},
     "output_type": "display_data"
    }
   ],
   "source": [
    "# ----------------\n",
    "# Read data\n",
    "# ----------------\n",
    "# ni,nf,nt = 20,20,10\n",
    "# reg_method,reg_params,Collinearity = 'ridge','[]',True\n",
    "\n",
    "# ni,nf,nt = 20,20,10\n",
    "# reg_method,reg_params,Collinearity = 'PLS',nf,True\n",
    "\n",
    "\n",
    "# ni,nf,nt = 200,20,10\n",
    "# reg_method,reg_params,Collinearity = 'ridge','[]',True\n",
    "\n",
    "# ni,nf,nt = 200,20,10\n",
    "# reg_method,reg_params,Collinearity = 'PLS',nf,True\n",
    "# \n",
    "# \n",
    "# \n",
    "# file = open(resultdir+'unit_test_%s_%s_ni%d_nf%d_nt%d_collinearity%s.pickle'%\\\n",
    "#                             (reg_method,reg_params,ni,nf,nt,Collinearity),'rb')\n",
    "# data_list = pickle.load(file)\n",
    "# file.close()\n",
    "# r12,r11,r22,r12_reg,r11_reg,r22_reg,r12_reg_sitfit,r11_reg_sitfit,r22_reg_sitfit = data_list\n",
    "# ----------------------------------------------------------\n",
    "\n",
    "if reg_method == 'ridge':\n",
    "    color = 'r'\n",
    "elif reg_method == 'PLS':\n",
    "    color = 'gray'\n",
    "elif reg_method == 'OMP':\n",
    "    color = 'blue'\n",
    "    \n",
    "    \n",
    "fig = plt.figure(figsize=[12,4])\n",
    "ax0 = fig.add_axes([0.1,0.11,0.25,0.70])\n",
    "ax1 = fig.add_axes([0.4,0.11,0.25,0.70])\n",
    "ax2 = fig.add_axes([0.7,0.11,0.25,0.70])\n",
    "\n",
    "for s in range(sd.shape[0]):\n",
    "    \n",
    "    ax0.scatter(np.sqrt(r11[s].mean(1)*r22[s].mean(1)), r12[s].mean(1), color = 'k', label ='Nom. vs. Denom.')\n",
    "    ax0.scatter(r22[s].mean(1), r11[s].mean(1), color=color, label = 'LHS vs. RHS')\n",
    "    ax0.plot([0, 1], [0, 1], ls='--', color='gray')\n",
    "    \n",
    "    if reg_method != 'OMP':\n",
    "        ax1.scatter(np.sqrt(r11_reg[s].mean(1)*r22_reg[s].mean(1)), r12_reg[s].mean(1), color='k',\n",
    "                    label='Nom. vs. Denom.')\n",
    "        ax1.scatter(r22_reg[s].mean(1), r11_reg[s].mean(1), color=color, label='LHS vs. RHS')\n",
    "        ax1.plot([0, 1], [0, 1], ls='--', color='gray')\n",
    "    \n",
    "    ax2.scatter(np.sqrt(r11_reg_sitfit[s].mean(1)*r22_reg_sitfit[s].mean(1)), r12_reg_sitfit[s].mean(1), \n",
    "                color='k', marker='x', label='Nom. vs. Denom.')\n",
    "    ax2.scatter(r22_reg_sitfit[s].mean(1), r11_reg_sitfit[s].mean(1), color=color, marker='x',\n",
    "                label='LHS vs. RHS')\n",
    "    ax2.plot([0, 1], [0, 1], ls='--', color='gray')\n",
    "       \n",
    "    \n",
    "for ax in [ax0, ax2]:    \n",
    "    \n",
    "    ax.spines['right'].set_visible(False)\n",
    "    ax.spines['top'].set_visible(False)\n",
    "\n",
    "    ax.yaxis.set_ticks_position('left')\n",
    "    ax.xaxis.set_ticks_position('bottom')\n",
    "\n",
    "    handles, labels = ax.get_legend_handles_labels()\n",
    "    ax.legend(handles[:2], labels[:2], loc='upper left')\n",
    "\n",
    "\n",
    "ax0.set_ylabel('r(model,data)_est OR r(model,model)')\n",
    "ax1.set_yticks([])\n",
    "ax0.set_title('VE=%.2f, N=%.2f, L= %.2f, R=%0.2f'%(np.nanmedian(r12/np.sqrt(r11*r22)), np.median(r12),\n",
    "                                                   np.median(r11), np.median(r22))) \n",
    "ax0.text(0.0, 0.75, 'inversion', fontsize=14)\n",
    "\n",
    "if reg_method != 'OMP':\n",
    "    ax1.set_xlabel('r(model,model),r(data,data))^0.5 OR r(data,data)')\n",
    "    ax1.spines['right'].set_visible(False)\n",
    "    ax1.spines['top'].set_visible(False)\n",
    "\n",
    "    ax1.yaxis.set_ticks_position('left')\n",
    "    ax1.xaxis.set_ticks_position('bottom')\n",
    "\n",
    "    handles, labels = ax1.get_legend_handles_labels()\n",
    "    ax1.legend(handles[:2], labels[:2], loc='upper left')\n",
    "    ax1.text(0.0, 0.75, 'regression:%s'%reg_method, fontsize=14)\n",
    "    ax1.set_title('VE=%.2f, N=%.2f, L= %.2f, R=%0.2f'%(np.nanmedian(r12_reg/np.sqrt(r11_reg*r22_reg)),np.median(r12_reg),\\\n",
    "                                                   np.median(r11_reg),np.median(r22_reg)))\n",
    "else:\n",
    "    ax1.set_xticks([])\n",
    "    ax1.axis('off')\n",
    "   \n",
    "    ax0.set_xlabel('r(model,model),r(data,data))^0.5 OR r(data,data)')\n",
    "    ax2.set_xlabel('r(model,model),r(data,data))^0.5 OR r(data,data)')\n",
    "\n",
    "print('Pinv: VarExp=%.3f, Num =%.3f, LHS= %.3f, RHS=%0.3f'%(np.nanmedian(r12/np.sqrt(r11*r22))\\\n",
    "            ,np.median(r12), np.median(r11), np.median(r22))) \n",
    "print('Reg: VarExp=%.3f, Num =%.3f, LHS= %.3f, RHS=%0.3f'%(np.nanmedian(r12_reg/np.sqrt(r11_reg*r22_reg)), np.median(r12_reg), np.median(r11_reg), np.median(r22_reg))) \n",
    "ax0.text(0.25,1.2,'#images = %d, #features = %d, #trials = %d, Collinearity = %s'%(ni, nf, nt, Collinearity), fontsize=14)\n",
    "\n",
    "ax2.set_title('VE=%.2f, N=%.2f, L= %.2f, R=%0.2f'%(np.nanmedian(r12_reg_sitfit/np.sqrt(r11_reg_sitfit*r22_reg_sitfit))\\\n",
    "                ,np.median(r12_reg_sitfit), np.median(r11_reg_sitfit),np.median(r22_reg_sitfit))) \n",
    "ax2.text(0.0,0.75,'regression-sitefit', fontsize=14)\n",
    "ax2.text(0.0,0.65,'%s'%reg_method, fontsize = 14)\n",
    "\n",
    "print('Reg-sitefit: VarExp=%.3f, Num =%.3f, LHS= %.3f, RHS=%0.3f'%\\\n",
    "              (np.nanmedian(r12_reg_sitfit/np.sqrt(r11_reg_sitfit*r22_reg_sitfit))\\\n",
    "            ,np.median(r12_reg_sitfit), np.median(r11_reg_sitfit), np.median(r22_reg_sitfit))) \n",
    "\n",
    "fig.savefig(resultdir+'unit_test_%s_ni%d_nf%d_nt%d_Collin%s_SB%s.png'%(reg_method, ni, nf, nt, Collinearity, spearman_brown), dpi=300)\n",
    "fig.savefig(resultdir+'unit_test_%s_ni%d_nf%d_nt%d_Collin%s_SB%s.pdf'%(reg_method, ni, nf, nt, Collinearity, spearman_brown), dpi=300)\n"
   ]
  },
  {
   "cell_type": "code",
   "execution_count": 18,
   "metadata": {},
   "outputs": [
    {
     "data": {
      "text/plain": [
       "array([0.3351818 , 0.31109495, 0.13738049, 0.18983743, 0.10974442,\n       0.17549136, 0.30023373, 0.16801353, 0.19207669, 0.26362999,\n       0.15808035, 0.28946347, 0.36123974, 0.29057761, 0.30399473,\n       0.22368785, 0.22406926, 0.27056464, 0.24003494, 0.1534856 ])"
      ]
     },
     "execution_count": 18,
     "metadata": {},
     "output_type": "execute_result"
    }
   ],
   "source": [
    "r12_reg_sitfit[s].mean(1)"
   ]
  },
  {
   "cell_type": "code",
   "execution_count": 21,
   "metadata": {},
   "outputs": [],
   "source": []
  },
  {
   "cell_type": "code",
   "execution_count": null,
   "metadata": {},
   "outputs": [],
   "source": []
  }
 ],
 "metadata": {
  "kernelspec": {
   "display_name": "Python 3",
   "language": "python",
   "name": "python3"
  },
  "language_info": {
   "codemirror_mode": {
    "name": "ipython",
    "version": 3
   },
   "file_extension": ".py",
   "mimetype": "text/x-python",
   "name": "python",
   "nbconvert_exporter": "python",
   "pygments_lexer": "ipython3",
   "version": "3.6.4"
  }
 },
 "nbformat": 4,
 "nbformat_minor": 2
}
