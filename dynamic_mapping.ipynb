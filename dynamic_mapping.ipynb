{
 "cells": [
  {
   "cell_type": "code",
   "execution_count": 1,
   "metadata": {
    "collapsed": true
   },
   "outputs": [
    {
     "name": "stderr",
     "output_type": "stream",
     "text": [
      "/home/tahereh/anaconda3/envs/pytorch_tensorflow/lib/python3.5/site-packages/h5py/__init__.py:36: FutureWarning: Conversion of the second argument of issubdtype from `float` to `np.floating` is deprecated. In future, it will be treated as `np.float64 == np.dtype(float).type`.\n  from ._conv import register_converters as _register_converters\n"
     ]
    }
   ],
   "source": [
    "import importlib\n",
    "from ReadMeta import ReadMeta\n",
    "from ReadModel import ReadModel\n",
    "import numpy as np\n",
    "import scipy.stats as ss\n",
    "import matplotlib.pylab as plt\n",
    "%matplotlib inline\n",
    "import h5py"
   ]
  },
  {
   "cell_type": "code",
   "execution_count": 2,
   "metadata": {},
   "outputs": [],
   "source": [
    "host = 'SYNPAI' #'habanero'\n",
    "if host == 'habanero':\n",
    "    resultdir ='/rigel/issa/users/Tahereh/Results/'\n",
    "    neuraldir = '/rigel/issa/users/Tahereh/models/neural_features/'\n",
    "    modeldir = '/rigel/issa/users/Tahereh/models/'\n",
    "    datadir = '/rigel/issa/users/Tahereh/Data/DiCarlo/'\n",
    "elif host =='Mac':\n",
    "    resultdir ='/Users/tahereh/Documents/Results/invertibility/error coding in visual cortex/'\n",
    "    neuraldir = '/Users/tahereh/Documents/Results/invertibility/error coding in visual cortex/models/neural_features/'\n",
    "    modeldir ='/Users/tahereh/Documents/Results/invertibility/error coding in visual cortex/models/'\n",
    "    datadir = '/Users/Tahereh/Documents/Data/DiCarlo'\n",
    "elif host == 'SYNPAI':\n",
    "    resultdir = '/home/tahereh/Documents/Research/Results/Neural-Dynamics/'\n",
    "    neuralfeaturesdir = '/home/tahereh/Documents/Research/features/neural_features/'\n",
    "    modeldir =  '/home/tahereh/Documents/Research/features/'\n",
    "    datadir =  '/home/tahereh/Documents/Research/Data/DiCarlo/'\n",
    "    # %pylab inline\n",
    "    # pylab.rcParams['xtick.color'] = 'white'\n",
    "    # pylab.rcParams['ytick.color'] = 'white'\n",
    "    # # pylab.rcParams['figsize'] = [6,4]\n",
    "    "
   ]
  },
  {
   "cell_type": "code",
   "execution_count": null,
   "metadata": {},
   "outputs": [],
   "source": [
    "hf = h5py.File(resultdir+ 'IT_standard.h5', 'r')\n",
    "Neu_features = np.array(hf.get('IT'))\n",
    "hf.close()\n",
    "\n",
    "n_components_PCA = 500\n",
    "folder_name = 'HvM_forward_features/'\n",
    "# Model 1\n",
    "# Read Model\n",
    "model_layer1 = 'conv5'\n",
    "Model = ReadModel(model_layer1, modeldir, True, n_components_PCA)\n",
    "model1 = Model.get_model()[640:,:]\n"
   ]
  },
  {
   "cell_type": "code",
   "execution_count": 19,
   "metadata": {},
   "outputs": [
    {
     "name": "stdout",
     "output_type": "stream",
     "text": [
      "/home/tahereh/Documents/Research/features/neural_features/\n"
     ]
    },
    {
     "name": "stdout",
     "output_type": "stream",
     "text": [
      "\n"
     ]
    }
   ],
   "source": [
    "reg_method = 'ridge' \n",
    "reg_params = [20, -10, 10]\n",
    "\n",
    "\n",
    "\n",
    "\n",
    "#Mapping = Mapping()\n",
    "\n",
    "\n",
    "# Read Meta\n",
    "Meta = ReadMeta(neuralfeaturesdir)\n",
    "DF_img = Meta.get_DF_img()\n",
    "DF_neu = Meta.get_DF_neu()\n",
    "times = Meta.get_times()\n",
    "import MappingV36\n",
    "importlib.reload(MappingV36)\n",
    "\n",
    "from MappingV36 import MappingV36 as Mapping\n",
    "MappingClass = Mapping()\n",
    "get_consistency = MappingClass.get_consistency\n",
    "\n",
    "# Read Neural data\n",
    "# Data = ReadData(datadir, DF_neu)\n",
    "# IT, V4 = Data.get_data()\n",
    "# \n",
    "# h5 = h5py.File(resultdir+ 'IT_V0.h5','w')\n",
    "# h5.create_dataset('IT_V0', data=IT[0])\n",
    "# h5.close()\n",
    "# \n",
    "# h5 = h5py.File(resultdir+ 'IT_V3.h5','w')\n",
    "# h5.create_dataset('IT_V3', data=IT[1])\n",
    "# h5.close()\n",
    "# \n",
    "# h5 = h5py.File(resultdir+ 'IT_V6.h5','w')\n",
    "# h5.create_dataset('IT_V6', data=IT[2])\n",
    "# h5.close()\n",
    "\n",
    "# # get_consistencies\n",
    "region = 'IT'\n",
    "time_interval_fixed = [70, 130]\n",
    "flexible_times = np.arange(70, 280, 10)\n",
    "itr = 0\n",
    "pseed = itr\n",
    "# \n",
    "trial_split = MappingClass.trial_split\n",
    "inds1, inds2 = trial_split(pseed)\n",
    "mean_trial_split = MappingClass.mean_trial_split\n",
    "get_Neu_trial_V36 = MappingClass.get_Neu_trial_V36\n",
    "\n",
    "#half1, half2 = mean_trial_split(inds1, inds2, get_Neu_trial_V36(IT[1:], time_interval_fixed, times))\n",
    "train_test_split_objV36 = MappingClass.train_test_split_objV36\n",
    "test_size = 0.2\n",
    "train_inds, test_inds = train_test_split_objV36(DF_img, test_size)\n",
    "# #\n",
    "# # Neu_trial = IT[1:]\n",
    "# # Neu_features = Mapping.get_Neu_trial_V36(Neu_trial, time_interval_fixed, times)\n",
    "# # Neu_features = Neu_features.swapaxes(0,1)\n",
    "# #\n",
    "# # h5 = h5py.File(resultdir+ 'IT_standard.h5','w')\n",
    "# # h5.create_dataset('IT', data=Neu_features)\n",
    "# # h5.close()\n",
    "# \n",
    "\n",
    "\n"
   ]
  },
  {
   "cell_type": "code",
   "execution_count": 15,
   "metadata": {},
   "outputs": [
    {
     "data": {
      "text/plain": [
       "(5120, 168, 46)"
      ]
     },
     "execution_count": 15,
     "metadata": {},
     "output_type": "execute_result"
    }
   ],
   "source": [
    "Neu_features.shape"
   ]
  },
  {
   "cell_type": "code",
   "execution_count": 20,
   "metadata": {},
   "outputs": [
    {
     "name": "stdout",
     "output_type": "stream",
     "text": [
      "0.6685315529505412 minutes\n0.6685427308082581 minutes\n70 0.6685434659322103 minutes\n"
     ]
    },
    {
     "name": "stderr",
     "output_type": "stream",
     "text": [
      "/home/tahereh/Codes/Github/Mapping/MappingV36.py:165: RuntimeWarning: invalid value encountered in sqrt\n  return numerator/(np.sqrt(LHS*RHS))\n"
     ]
    },
    {
     "name": "stderr",
     "output_type": "stream",
     "text": [
      "/home/tahereh/Codes/Github/Mapping/MappingV36.py:165: RuntimeWarning: invalid value encountered in sqrt\n  return numerator/(np.sqrt(LHS*RHS))\n"
     ]
    },
    {
     "name": "stdout",
     "output_type": "stream",
     "text": [
      "80 1.3653898239135742 minutes\n"
     ]
    },
    {
     "name": "stderr",
     "output_type": "stream",
     "text": [
      "/home/tahereh/Codes/Github/Mapping/MappingV36.py:165: RuntimeWarning: invalid value encountered in sqrt\n  return numerator/(np.sqrt(LHS*RHS))\n"
     ]
    },
    {
     "name": "stdout",
     "output_type": "stream",
     "text": [
      "90 2.0530072689056396 minutes\n"
     ]
    },
    {
     "name": "stderr",
     "output_type": "stream",
     "text": [
      "/home/tahereh/Codes/Github/Mapping/MappingV36.py:165: RuntimeWarning: invalid value encountered in sqrt\n  return numerator/(np.sqrt(LHS*RHS))\n"
     ]
    },
    {
     "name": "stdout",
     "output_type": "stream",
     "text": [
      "100 2.762787369887034 minutes\n"
     ]
    },
    {
     "name": "stderr",
     "output_type": "stream",
     "text": [
      "/home/tahereh/Codes/Github/Mapping/MappingV36.py:165: RuntimeWarning: invalid value encountered in sqrt\n  return numerator/(np.sqrt(LHS*RHS))\n"
     ]
    },
    {
     "name": "stdout",
     "output_type": "stream",
     "text": [
      "110 3.4516432960828145 minutes\n"
     ]
    },
    {
     "name": "stdout",
     "output_type": "stream",
     "text": [
      "120 4.1560513536135355 minutes\n"
     ]
    },
    {
     "name": "stderr",
     "output_type": "stream",
     "text": [
      "/home/tahereh/Codes/Github/Mapping/MappingV36.py:165: RuntimeWarning: invalid value encountered in sqrt\n  return numerator/(np.sqrt(LHS*RHS))\n"
     ]
    },
    {
     "name": "stderr",
     "output_type": "stream",
     "text": [
      "/home/tahereh/Codes/Github/Mapping/MappingV36.py:165: RuntimeWarning: invalid value encountered in sqrt\n  return numerator/(np.sqrt(LHS*RHS))\n"
     ]
    },
    {
     "name": "stdout",
     "output_type": "stream",
     "text": [
      "130 4.862676497300466 minutes\n"
     ]
    },
    {
     "name": "stdout",
     "output_type": "stream",
     "text": [
      "140 5.550301762421926 minutes\n"
     ]
    },
    {
     "name": "stderr",
     "output_type": "stream",
     "text": [
      "/home/tahereh/Codes/Github/Mapping/MappingV36.py:165: RuntimeWarning: invalid value encountered in sqrt\n  return numerator/(np.sqrt(LHS*RHS))\n"
     ]
    },
    {
     "name": "stdout",
     "output_type": "stream",
     "text": [
      "150 6.244717665513357 minutes\n"
     ]
    },
    {
     "name": "stderr",
     "output_type": "stream",
     "text": [
      "/home/tahereh/Codes/Github/Mapping/MappingV36.py:165: RuntimeWarning: invalid value encountered in sqrt\n  return numerator/(np.sqrt(LHS*RHS))\n"
     ]
    },
    {
     "name": "stderr",
     "output_type": "stream",
     "text": [
      "/home/tahereh/Codes/Github/Mapping/MappingV36.py:165: RuntimeWarning: invalid value encountered in sqrt\n  return numerator/(np.sqrt(LHS*RHS))\n"
     ]
    },
    {
     "name": "stdout",
     "output_type": "stream",
     "text": [
      "160 6.9469746351242065 minutes\n"
     ]
    },
    {
     "name": "stderr",
     "output_type": "stream",
     "text": [
      "/home/tahereh/Codes/Github/Mapping/MappingV36.py:165: RuntimeWarning: invalid value encountered in sqrt\n  return numerator/(np.sqrt(LHS*RHS))\n"
     ]
    },
    {
     "name": "stdout",
     "output_type": "stream",
     "text": [
      "170 7.730277367432913 minutes\n"
     ]
    },
    {
     "name": "stderr",
     "output_type": "stream",
     "text": [
      "/home/tahereh/Codes/Github/Mapping/MappingV36.py:165: RuntimeWarning: invalid value encountered in sqrt\n  return numerator/(np.sqrt(LHS*RHS))\n"
     ]
    },
    {
     "name": "stdout",
     "output_type": "stream",
     "text": [
      "180 8.40909748474757 minutes\n"
     ]
    },
    {
     "name": "stderr",
     "output_type": "stream",
     "text": [
      "/home/tahereh/Codes/Github/Mapping/MappingV36.py:165: RuntimeWarning: invalid value encountered in sqrt\n  return numerator/(np.sqrt(LHS*RHS))\n"
     ]
    },
    {
     "name": "stdout",
     "output_type": "stream",
     "text": [
      "190 9.103834648927053 minutes\n"
     ]
    },
    {
     "name": "stderr",
     "output_type": "stream",
     "text": [
      "/home/tahereh/Codes/Github/Mapping/MappingV36.py:165: RuntimeWarning: invalid value encountered in sqrt\n  return numerator/(np.sqrt(LHS*RHS))\n"
     ]
    },
    {
     "name": "stdout",
     "output_type": "stream",
     "text": [
      "200 9.79167509873708 minutes\n"
     ]
    },
    {
     "name": "stderr",
     "output_type": "stream",
     "text": [
      "/home/tahereh/Codes/Github/Mapping/MappingV36.py:165: RuntimeWarning: invalid value encountered in sqrt\n  return numerator/(np.sqrt(LHS*RHS))\n"
     ]
    },
    {
     "name": "stdout",
     "output_type": "stream",
     "text": [
      "210 10.47831932703654 minutes\n"
     ]
    },
    {
     "name": "stderr",
     "output_type": "stream",
     "text": [
      "/home/tahereh/Codes/Github/Mapping/MappingV36.py:165: RuntimeWarning: invalid value encountered in sqrt\n  return numerator/(np.sqrt(LHS*RHS))\n"
     ]
    },
    {
     "name": "stdout",
     "output_type": "stream",
     "text": [
      "220 11.151555407047272 minutes\n"
     ]
    },
    {
     "name": "stderr",
     "output_type": "stream",
     "text": [
      "/home/tahereh/Codes/Github/Mapping/MappingV36.py:165: RuntimeWarning: invalid value encountered in sqrt\n  return numerator/(np.sqrt(LHS*RHS))\n"
     ]
    },
    {
     "name": "stdout",
     "output_type": "stream",
     "text": [
      "230 11.82619564930598 minutes\n"
     ]
    },
    {
     "name": "stderr",
     "output_type": "stream",
     "text": [
      "/home/tahereh/Codes/Github/Mapping/MappingV36.py:165: RuntimeWarning: invalid value encountered in sqrt\n  return numerator/(np.sqrt(LHS*RHS))\n"
     ]
    },
    {
     "name": "stdout",
     "output_type": "stream",
     "text": [
      "240 12.495432027180989 minutes\n"
     ]
    },
    {
     "name": "stderr",
     "output_type": "stream",
     "text": [
      "/home/tahereh/Codes/Github/Mapping/MappingV36.py:165: RuntimeWarning: invalid value encountered in sqrt\n  return numerator/(np.sqrt(LHS*RHS))\n"
     ]
    },
    {
     "name": "stdout",
     "output_type": "stream",
     "text": [
      "250 13.199245822429656 minutes\n"
     ]
    },
    {
     "name": "stderr",
     "output_type": "stream",
     "text": [
      "/home/tahereh/Codes/Github/Mapping/MappingV36.py:165: RuntimeWarning: invalid value encountered in sqrt\n  return numerator/(np.sqrt(LHS*RHS))\n"
     ]
    },
    {
     "name": "stdout",
     "output_type": "stream",
     "text": [
      "260 13.892895325024922 minutes\n"
     ]
    },
    {
     "name": "stderr",
     "output_type": "stream",
     "text": [
      "/home/tahereh/Codes/Github/Mapping/MappingV36.py:165: RuntimeWarning: invalid value encountered in sqrt\n  return numerator/(np.sqrt(LHS*RHS))\n"
     ]
    },
    {
     "name": "stdout",
     "output_type": "stream",
     "text": [
      "270 14.597297632694245 minutes\n"
     ]
    },
    {
     "name": "stderr",
     "output_type": "stream",
     "text": [
      "/home/tahereh/Codes/Github/Mapping/MappingV36.py:165: RuntimeWarning: invalid value encountered in sqrt\n  return numerator/(np.sqrt(LHS*RHS))\n"
     ]
    },
    {
     "ename": "NameError",
     "evalue": "name 'coef_flexibleflexible_times' is not defined",
     "traceback": [
      "\u001b[0;31m---------------------------------------------------------------------------\u001b[0m",
      "\u001b[0;31mNameError\u001b[0m                                 Traceback (most recent call last)",
      "\u001b[0;32m<ipython-input-20-d08b5f1e2266>\u001b[0m in \u001b[0;36m<module>\u001b[0;34m()\u001b[0m\n\u001b[1;32m      5\u001b[0m \u001b[0;34m\u001b[0m\u001b[0m\n\u001b[1;32m      6\u001b[0m \u001b[0;34m\u001b[0m\u001b[0m\n\u001b[0;32m----> 7\u001b[0;31m \u001b[0mdatalist\u001b[0m \u001b[0;34m=\u001b[0m \u001b[0;34m[\u001b[0m\u001b[0mr_sites_fixed_1\u001b[0m\u001b[0;34m,\u001b[0m \u001b[0mr_sites_flexible_1\u001b[0m\u001b[0;34m,\u001b[0m \u001b[0mlist_acceptable_neurons_1\u001b[0m\u001b[0;34m,\u001b[0m  \u001b[0mcoef_fixed\u001b[0m\u001b[0;34m,\u001b[0m \u001b[0mcoef_flexibleflexible_times\u001b[0m\u001b[0;34m,\u001b[0m \u001b[0mtime_interval_fixed\u001b[0m\u001b[0;34m,\u001b[0m \u001b[0mreg_method\u001b[0m\u001b[0;34m,\u001b[0m \u001b[0mreg_params\u001b[0m\u001b[0;34m]\u001b[0m\u001b[0;34m\u001b[0m\u001b[0m\n\u001b[0m\u001b[1;32m      8\u001b[0m \u001b[0mfilename\u001b[0m \u001b[0;34m=\u001b[0m \u001b[0mresultdir\u001b[0m\u001b[0;34m+\u001b[0m\u001b[0;34m'model%s_IT_fixedflexible.pickle'\u001b[0m\u001b[0;34m%\u001b[0m\u001b[0mmodel_layer1\u001b[0m\u001b[0;34m\u001b[0m\u001b[0m\n\u001b[1;32m      9\u001b[0m \u001b[0mpickle\u001b[0m\u001b[0;34m.\u001b[0m\u001b[0mdump\u001b[0m\u001b[0;34m(\u001b[0m\u001b[0mdatalist\u001b[0m\u001b[0;34m,\u001b[0m \u001b[0mopen\u001b[0m\u001b[0;34m(\u001b[0m\u001b[0mfilename\u001b[0m\u001b[0;34m,\u001b[0m \u001b[0;34m'wb'\u001b[0m\u001b[0;34m)\u001b[0m\u001b[0;34m)\u001b[0m\u001b[0;34m\u001b[0m\u001b[0m\n",
      "\u001b[0;31mNameError\u001b[0m: name 'coef_flexibleflexible_times' is not defined"
     ],
     "output_type": "error"
    }
   ],
   "source": [
    "\n",
    "\n",
    "Neu_trial = Neu_features.swapaxes(0,1)\n",
    "r_sites_fixed_1, r_sites_flexible_1, list_acceptable_neurons_1 , coef_fixed, coef_flexible = get_consistency(reg_method, reg_params,  model1,inds1, inds2,  Neu_trial, train_inds, test_inds, time_interval_fixed, flexible_times, times)\n",
    "\n",
    "\n",
    "datalist = [r_sites_fixed_1, r_sites_flexible_1, list_acceptable_neurons_1,  coef_fixed, coef_flexible, flexible_times, time_interval_fixed, reg_method, reg_params]\n",
    "filename = resultdir+'model%s_IT_fixedflexible.pickle'%model_layer1\n",
    "pickle.dump(datalist, open(filename, 'wb'))\n",
    "print('Model1 done')"
   ]
  },
  {
   "cell_type": "code",
   "execution_count": 24,
   "metadata": {},
   "outputs": [
    {
     "name": "stdout",
     "output_type": "stream",
     "text": [
      "Model1 done\n"
     ]
    }
   ],
   "source": [
    "import pickle\n",
    "datalist = [r_sites_fixed_1, r_sites_flexible_1, list_acceptable_neurons_1,  coef_fixed, coef_flexible, flexible_times, time_interval_fixed, reg_method, reg_params]\n",
    "filename = resultdir+'model%s_IT_fixedflexible.pickle'%model_layer1\n",
    "pickle.dump(datalist, open(filename, 'wb'))\n",
    "print('Model1 done')"
   ]
  },
  {
   "cell_type": "code",
   "execution_count": null,
   "metadata": {},
   "outputs": [],
   "source": []
  }
 ],
 "metadata": {
  "kernelspec": {
   "display_name": "Python 2",
   "language": "python",
   "name": "python2"
  },
  "language_info": {
   "codemirror_mode": {
    "name": "ipython",
    "version": 2
   },
   "file_extension": ".py",
   "mimetype": "text/x-python",
   "name": "python",
   "nbconvert_exporter": "python",
   "pygments_lexer": "ipython2",
   "version": "2.7.6"
  }
 },
 "nbformat": 4,
 "nbformat_minor": 0
}
