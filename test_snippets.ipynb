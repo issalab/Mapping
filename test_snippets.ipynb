{
 "cells": [
  {
   "cell_type": "code",
   "execution_count": null,
   "metadata": {
    "collapsed": true
   },
   "outputs": [],
   "source": []
  },
  {
   "cell_type": "code",
   "execution_count": 1,
   "metadata": {},
   "outputs": [],
   "source": [
    "host = 'SYNPAI' #'habanero'\n",
    "if host == 'habanero':\n",
    "    resultdir ='/rigel/issa/users/Tahereh/Results/'\n",
    "    neuraldir = '/rigel/issa/users/Tahereh/models/neural_features/'\n",
    "    modeldir = '/rigel/issa/users/Tahereh/models/'\n",
    "    datadir = '/rigel/issa/users/Tahereh/Data/DiCarlo/'\n",
    "elif host =='Mac':\n",
    "    resultdir ='/Users/tahereh/Documents/Results/invertibility/error coding in visual cortex/'\n",
    "    neuraldir = '/Users/tahereh/Documents/Results/invertibility/error coding in visual cortex/models/neural_features/'\n",
    "    modeldir ='/Users/tahereh/Documents/Results/invertibility/error coding in visual cortex/models/'\n",
    "    datadir = '/Users/Tahereh/Documents/Data/DiCarlo'\n",
    "elif host == 'SYNPAI':\n",
    "    resultdir = '/home/tahereh/Documents/Research/Results/Neural-Dynamics/'\n",
    "    neuralfeaturesdir = '/home/tahereh/Documents/Research/features/neural_features/'\n",
    "    modeldir =  '/home/tahereh/Documents/Research/features/'\n",
    "    datadir =  '/home/tahereh/Documents/Research/Data/DiCarlo/'\n",
    "    # %pylab inline\n",
    "    # pylab.rcParams['xtick.color'] = 'white'\n",
    "    # pylab.rcParams['ytick.color'] = 'white'\n",
    "    # # pylab.rcParams['figsize'] = [6,4]\n",
    "    "
   ]
  },
  {
   "cell_type": "code",
   "execution_count": 2,
   "metadata": {},
   "outputs": [],
   "source": [
    "import pickle\n",
    "import pandas as pd\n",
    "import time\n",
    "\n",
    "\n",
    "class Read_Meta:\n",
    "    def __init__(self, neuralfeaturesdir):\n",
    "        self.neuralfeaturesdir = neuralfeaturesdir \n",
    "    def Data_imagesAndtimes(self):\n",
    "        file = open(neuralfeaturesdir + 'Data_imagesAndtimes.pickle', 'rb')\n",
    "        Data_imagesAndtimes = pickle.load(file)\n",
    "        file.close()\n",
    "\n",
    "        Data_image = Data_imagesAndtimes[0]\n",
    "        times = Data_imagesAndtimes[1]\n",
    "        return Data_image, times\n",
    "    def get_DF_neu(self):\n",
    "        DF_neu = pd.read_csv(neuralfeaturesdir + 'DataFrame_Neural.csv', sep=\",\", index_col=False)\n",
    "        return DF_neu\n",
    "    def get_DF_img(self):\n",
    "        DF_img = pd.read_csv(neuralfeaturesdir + 'DataFrame_Images.csv', sep=\",\", index_col=False)\n",
    "        return DF_img\n",
    "        "
   ]
  },
  {
   "cell_type": "code",
   "execution_count": 5,
   "metadata": {},
   "outputs": [],
   "source": [
    "def main():\n",
    "\n",
    "    meta = Read_Meta(neuralfeaturesdir)\n",
    "\n",
    "\n",
    "if __name__ == \"__main__\":\n",
    "    main()\n",
    "    "
   ]
  },
  {
   "cell_type": "code",
   "execution_count": 4,
   "metadata": {},
   "outputs": [
    {
     "name": "stdout",
     "output_type": "stream",
     "text": [
      "      Unnamed: 0                                          _id  \\\n0              0  01c0425e982e4edc276fe5373dbf8e5e49bd9a16_V0   \n1              1  1ab7a705f57d772a0203141ad42742e874f42099_V0   \n2              2  813820d67a6fe96bc9167070d85dd6258e9b0b47_V0   \n3              3  838fc10ae4d5aecb22595ca7e1aba67fd0fd9c32_V0   \n4              4  8c1ccb3fbdd6cfb27854f387225380a16774cddc_V0   \n5              5  951b335db74ae6fe585793c10bdb4f4f7e575213_V0   \n6              6  c2b55fcbfb5e6769968c0bc4926aefdd8f6755cb_V0   \n7              7  e1d5280fbc674a151e0754384341289624ace974_V0   \n8              8  ecd4021e3ae23c18874c31e02e3a9c7d9ed15203_V0   \n9              9  fa331deba6de048889c4f5abca7e18bf049d13d6_V0   \n10            10  2603ec29244ed2ff2c9b353aec20429eaaaefb7e_V0   \n11            11  36d608bfa09d2d58f42f1cd12a27a2b80a3b8d02_V0   \n12            12  4647133f7784fbd40525ea113de132186f16667e_V0   \n13            13  564f10525f8ad70838f82f53b13f8c98dece53cd_V0   \n14            14  63de1aebe5e113263e5789d485de81d2da64be93_V0   \n15            15  761417e71de4729165b6b49808c8f05e8724bc80_V0   \n16            16  7b44fb43755d315da8e94d73a1ab04e5db592a04_V0   \n17            17  a58162f95b475733b9aa674b70cbcf10aae3e5ee_V0   \n18            18  c7e06c87acd46b6e4c545a0dddf93872c170933b_V0   \n19            19  e82cb1d5309fcd7eb1bac41f0d0fccac5db3e885_V0   \n20            20  01634a8fb5e5857b80a088811110213bbd8a142b_V0   \n21            21  35188a6639ef55c9c3659bb994308dc5827d0228_V0   \n22            22  4017ba170ef171ec2adff4536e75c9b1bd9c290d_V0   \n23            23  50303909e122277ca5a1423e0f4a5d00763105fb_V0   \n24            24  7519a172b3e731f3015c6959d866793bebafd8ff_V0   \n25            25  b974ecac7aca17d4d29e99deec56b7f8ae4e2f2f_V0   \n26            26  c682e8d311941dc98b2d88b3953f32435dab0388_V0   \n27            27  de7e13dfab41d7fec5558b2d1e3a4ec1a563f165_V0   \n28            28  f7f2e9e9755c2f77eea2226136f79c09d98c4ebc_V0   \n29            29  fa565ea242d3e09e58991f67620353bec2955c83_V0   \n...          ...                                          ...   \n5730        5730  409eb800ce69d346b771fc09119896d441ee28da_V6   \n5731        5731  383b539b6597a2a5c521051e384b8a46a30843c0_V6   \n5732        5732  52d88d1b0c95e82a642dacb1854b1c06f4f7b954_V6   \n5733        5733  b125a656add83a448a3dc04fc7f1110516328f2d_V6   \n5734        5734  61c2c2c399c44f9c0dfc16a820d4289e80ae7e32_V6   \n5735        5735  eea26fc77129885b531fd6052ceb9abf5e63943a_V6   \n5736        5736  a17beb47186d13aa2191f43e4da68649eebeeba3_V6   \n5737        5737  85bc69d8900affd2edb409623b8a1a799d7aad62_V6   \n5738        5738  03fc246032eff7f0be22f744a830666894606ade_V6   \n5739        5739  193afd101d3a76867ef1fd3d877f71409f538ff0_V6   \n5740        5740  cfd7cbb5bb7b1f507cf6e54dd01e90e5d8b9c574_V6   \n5741        5741  f081f02789dfdd610beb3dbc653102cb38a9b32c_V6   \n5742        5742  934eb1d2127498eb4ea021c17edf5009e970f307_V6   \n5743        5743  e74cc8768703a9af05d0d90ba1e1182fffc5c00e_V6   \n5744        5744  ea7a8faaf35aee041abb79ecd539195a91a2f884_V6   \n5745        5745  985f16893c91680d57e71acc68dad790e247d8b6_V6   \n5746        5746  ccee689aa597aa9e08a77716cefab6b6ea5cd1dc_V6   \n5747        5747  eda16292bd0a5fce946fadf6adf785f8177c4157_V6   \n5748        5748  7bda99c1885fe0b07f9acfd12018cf94a164c626_V6   \n5749        5749  d721b5f8d4c57c7814feeac9b4a4286d5240b978_V6   \n5750        5750  7f4ad2cd7c887496c1e7223c2c33146b2bf1cdeb_V6   \n5751        5751  cedba379ef79308b76d8d2a52bf6559540f157fb_V6   \n5752        5752  850f89de7285acbbef50b773fadd7fc23945caab_V6   \n5753        5753  72c8349c52d0bef543d62b0ad98e7152cd3195c3_V6   \n5754        5754  4adddb965bb344cb97092ecf9fd4d32be62ddae8_V6   \n5755        5755  566bd813b77921c9376c49b62e34774a488c7db1_V6   \n5756        5756  1ceb599d23a380aa296079e6c0b4606e942e75f8_V6   \n5757        5757  4c520473a9e43a98f1785cfe134f7a5dd9759d68_V6   \n5758        5758  0bbb182f4a889bc4688daf39635e2c9f8309298e_V6   \n5759        5759  07ae5d2c092d7de8043f427d08e372f83e320a25_V6   \n\n                                         bg_id category  \\\n0     01c0425e982e4edc276fe5373dbf8e5e49bd9a16   Fruits   \n1     1ab7a705f57d772a0203141ad42742e874f42099   Fruits   \n2     813820d67a6fe96bc9167070d85dd6258e9b0b47   Fruits   \n3     838fc10ae4d5aecb22595ca7e1aba67fd0fd9c32   Fruits   \n4     8c1ccb3fbdd6cfb27854f387225380a16774cddc   Fruits   \n5     951b335db74ae6fe585793c10bdb4f4f7e575213   Fruits   \n6     c2b55fcbfb5e6769968c0bc4926aefdd8f6755cb   Fruits   \n7     e1d5280fbc674a151e0754384341289624ace974   Fruits   \n8     ecd4021e3ae23c18874c31e02e3a9c7d9ed15203   Fruits   \n9     fa331deba6de048889c4f5abca7e18bf049d13d6   Fruits   \n10    2603ec29244ed2ff2c9b353aec20429eaaaefb7e   Fruits   \n11    36d608bfa09d2d58f42f1cd12a27a2b80a3b8d02   Fruits   \n12    4647133f7784fbd40525ea113de132186f16667e   Fruits   \n13    564f10525f8ad70838f82f53b13f8c98dece53cd   Fruits   \n14    63de1aebe5e113263e5789d485de81d2da64be93   Fruits   \n15    761417e71de4729165b6b49808c8f05e8724bc80   Fruits   \n16    7b44fb43755d315da8e94d73a1ab04e5db592a04   Fruits   \n17    a58162f95b475733b9aa674b70cbcf10aae3e5ee   Fruits   \n18    c7e06c87acd46b6e4c545a0dddf93872c170933b   Fruits   \n19    e82cb1d5309fcd7eb1bac41f0d0fccac5db3e885   Fruits   \n20    01634a8fb5e5857b80a088811110213bbd8a142b    Boats   \n21    35188a6639ef55c9c3659bb994308dc5827d0228    Boats   \n22    4017ba170ef171ec2adff4536e75c9b1bd9c290d    Boats   \n23    50303909e122277ca5a1423e0f4a5d00763105fb    Boats   \n24    7519a172b3e731f3015c6959d866793bebafd8ff    Boats   \n25    b974ecac7aca17d4d29e99deec56b7f8ae4e2f2f    Boats   \n26    c682e8d311941dc98b2d88b3953f32435dab0388    Boats   \n27    de7e13dfab41d7fec5558b2d1e3a4ec1a563f165    Boats   \n28    f7f2e9e9755c2f77eea2226136f79c09d98c4ebc    Boats   \n29    fa565ea242d3e09e58991f67620353bec2955c83    Boats   \n...                                        ...      ...   \n5730  409eb800ce69d346b771fc09119896d441ee28da     Cars   \n5731  383b539b6597a2a5c521051e384b8a46a30843c0     Cars   \n5732  52d88d1b0c95e82a642dacb1854b1c06f4f7b954     Cars   \n5733  b125a656add83a448a3dc04fc7f1110516328f2d     Cars   \n5734  61c2c2c399c44f9c0dfc16a820d4289e80ae7e32     Cars   \n5735  eea26fc77129885b531fd6052ceb9abf5e63943a     Cars   \n5736  a17beb47186d13aa2191f43e4da68649eebeeba3     Cars   \n5737  85bc69d8900affd2edb409623b8a1a799d7aad62     Cars   \n5738  03fc246032eff7f0be22f744a830666894606ade     Cars   \n5739  193afd101d3a76867ef1fd3d877f71409f538ff0     Cars   \n5740  cfd7cbb5bb7b1f507cf6e54dd01e90e5d8b9c574     Cars   \n5741  f081f02789dfdd610beb3dbc653102cb38a9b32c     Cars   \n5742  934eb1d2127498eb4ea021c17edf5009e970f307     Cars   \n5743  e74cc8768703a9af05d0d90ba1e1182fffc5c00e     Cars   \n5744  ea7a8faaf35aee041abb79ecd539195a91a2f884     Cars   \n5745  985f16893c91680d57e71acc68dad790e247d8b6     Cars   \n5746  ccee689aa597aa9e08a77716cefab6b6ea5cd1dc     Cars   \n5747  eda16292bd0a5fce946fadf6adf785f8177c4157     Cars   \n5748  7bda99c1885fe0b07f9acfd12018cf94a164c626     Cars   \n5749  d721b5f8d4c57c7814feeac9b4a4286d5240b978     Cars   \n5750  7f4ad2cd7c887496c1e7223c2c33146b2bf1cdeb     Cars   \n5751  cedba379ef79308b76d8d2a52bf6559540f157fb     Cars   \n5752  850f89de7285acbbef50b773fadd7fc23945caab     Cars   \n5753  72c8349c52d0bef543d62b0ad98e7152cd3195c3     Cars   \n5754  4adddb965bb344cb97092ecf9fd4d32be62ddae8     Cars   \n5755  566bd813b77921c9376c49b62e34774a488c7db1     Cars   \n5756  1ceb599d23a380aa296079e6c0b4606e942e75f8     Cars   \n5757  4c520473a9e43a98f1785cfe134f7a5dd9759d68     Cars   \n5758  0bbb182f4a889bc4688daf39635e2c9f8309298e     Cars   \n5759  07ae5d2c092d7de8043f427d08e372f83e320a25     Cars   \n\n                                               filename  \\\n0     /Users/elias/.skdata/HvMWithDiscfade_6eef66484...   \n1     /Users/elias/.skdata/HvMWithDiscfade_6eef66484...   \n2     /Users/elias/.skdata/HvMWithDiscfade_6eef66484...   \n3     /Users/elias/.skdata/HvMWithDiscfade_6eef66484...   \n4     /Users/elias/.skdata/HvMWithDiscfade_6eef66484...   \n5     /Users/elias/.skdata/HvMWithDiscfade_6eef66484...   \n6     /Users/elias/.skdata/HvMWithDiscfade_6eef66484...   \n7     /Users/elias/.skdata/HvMWithDiscfade_6eef66484...   \n8     /Users/elias/.skdata/HvMWithDiscfade_6eef66484...   \n9     /Users/elias/.skdata/HvMWithDiscfade_6eef66484...   \n10    /Users/elias/.skdata/HvMWithDiscfade_6eef66484...   \n11    /Users/elias/.skdata/HvMWithDiscfade_6eef66484...   \n12    /Users/elias/.skdata/HvMWithDiscfade_6eef66484...   \n13    /Users/elias/.skdata/HvMWithDiscfade_6eef66484...   \n14    /Users/elias/.skdata/HvMWithDiscfade_6eef66484...   \n15    /Users/elias/.skdata/HvMWithDiscfade_6eef66484...   \n16    /Users/elias/.skdata/HvMWithDiscfade_6eef66484...   \n17    /Users/elias/.skdata/HvMWithDiscfade_6eef66484...   \n18    /Users/elias/.skdata/HvMWithDiscfade_6eef66484...   \n19    /Users/elias/.skdata/HvMWithDiscfade_6eef66484...   \n20    /Users/elias/.skdata/HvMWithDiscfade_6eef66484...   \n21    /Users/elias/.skdata/HvMWithDiscfade_6eef66484...   \n22    /Users/elias/.skdata/HvMWithDiscfade_6eef66484...   \n23    /Users/elias/.skdata/HvMWithDiscfade_6eef66484...   \n24    /Users/elias/.skdata/HvMWithDiscfade_6eef66484...   \n25    /Users/elias/.skdata/HvMWithDiscfade_6eef66484...   \n26    /Users/elias/.skdata/HvMWithDiscfade_6eef66484...   \n27    /Users/elias/.skdata/HvMWithDiscfade_6eef66484...   \n28    /Users/elias/.skdata/HvMWithDiscfade_6eef66484...   \n29    /Users/elias/.skdata/HvMWithDiscfade_6eef66484...   \n...                                                 ...   \n5730  /Users/elias/.skdata/HvMWithDiscfade_6eef66484...   \n5731  /Users/elias/.skdata/HvMWithDiscfade_6eef66484...   \n5732  /Users/elias/.skdata/HvMWithDiscfade_6eef66484...   \n5733  /Users/elias/.skdata/HvMWithDiscfade_6eef66484...   \n5734  /Users/elias/.skdata/HvMWithDiscfade_6eef66484...   \n5735  /Users/elias/.skdata/HvMWithDiscfade_6eef66484...   \n5736  /Users/elias/.skdata/HvMWithDiscfade_6eef66484...   \n5737  /Users/elias/.skdata/HvMWithDiscfade_6eef66484...   \n5738  /Users/elias/.skdata/HvMWithDiscfade_6eef66484...   \n5739  /Users/elias/.skdata/HvMWithDiscfade_6eef66484...   \n5740  /Users/elias/.skdata/HvMWithDiscfade_6eef66484...   \n5741  /Users/elias/.skdata/HvMWithDiscfade_6eef66484...   \n5742  /Users/elias/.skdata/HvMWithDiscfade_6eef66484...   \n5743  /Users/elias/.skdata/HvMWithDiscfade_6eef66484...   \n5744  /Users/elias/.skdata/HvMWithDiscfade_6eef66484...   \n5745  /Users/elias/.skdata/HvMWithDiscfade_6eef66484...   \n5746  /Users/elias/.skdata/HvMWithDiscfade_6eef66484...   \n5747  /Users/elias/.skdata/HvMWithDiscfade_6eef66484...   \n5748  /Users/elias/.skdata/HvMWithDiscfade_6eef66484...   \n5749  /Users/elias/.skdata/HvMWithDiscfade_6eef66484...   \n5750  /Users/elias/.skdata/HvMWithDiscfade_6eef66484...   \n5751  /Users/elias/.skdata/HvMWithDiscfade_6eef66484...   \n5752  /Users/elias/.skdata/HvMWithDiscfade_6eef66484...   \n5753  /Users/elias/.skdata/HvMWithDiscfade_6eef66484...   \n5754  /Users/elias/.skdata/HvMWithDiscfade_6eef66484...   \n5755  /Users/elias/.skdata/HvMWithDiscfade_6eef66484...   \n5756  /Users/elias/.skdata/HvMWithDiscfade_6eef66484...   \n5757  /Users/elias/.skdata/HvMWithDiscfade_6eef66484...   \n5758  /Users/elias/.skdata/HvMWithDiscfade_6eef66484...   \n5759  /Users/elias/.skdata/HvMWithDiscfade_6eef66484...   \n\n                                            id              obj     rxy  \\\n0     f1ae7c2160c6cbb309b940a0dc127a8aa1060e5d  Apple_Fruit_obj  -0.000   \n1     691384450355c07ad084613a08a018ae8e1eebb2  Apple_Fruit_obj  -0.000   \n2     fe9cd029e43ebdeeb509b61db1573a8286d06e6a  Apple_Fruit_obj  -0.000   \n3     c766632574f6d86f0a048f2e5817826c1888699b  Apple_Fruit_obj  -0.000   \n4     7edd311b0ef7a9e61c62c6cbc2b3cfc2b5b6ea9d  Apple_Fruit_obj  -0.000   \n5     3a2e8aeaae50f81d1d4fc716969bd2c8e169b9d9  Apple_Fruit_obj  -0.000   \n6     5cde85cc63e677623c606ebf6d21a6b028b50baf  Apple_Fruit_obj  -0.000   \n7     7cc53b502f4edb4c80316733868a33894016aa53  Apple_Fruit_obj  -0.000   \n8     c01fd13e140ad955d7ce56c365f6c0d850c0abbb  Apple_Fruit_obj  -0.000   \n9     202e13540b85d535b6fcabe430647ec11dcc67a5  Apple_Fruit_obj  -0.000   \n10    97d2757946971047f406eb562e947cce75e1d1e3      Apricot_obj  -0.000   \n11    6e2ddadd2ca093f7638282e4851b60d5b87b8ca4      Apricot_obj  -0.000   \n12    b54f9e7fbc9f49bb60f6d24aa9e90b7623a4b42d      Apricot_obj  -0.000   \n13    eb5533e147d78342f664e4f3f1968a62ada7acb9      Apricot_obj  -0.000   \n14    ac2ca681980fce7d038b837b6b3bdf1db72bd440      Apricot_obj  -0.000   \n15    3dce823bb638b1a29eeb116c2f924bfcaaff60ff      Apricot_obj  -0.000   \n16    ae2b8aac003c867a772647197dcd3c050b75a06e      Apricot_obj  -0.000   \n17    a38eaebb855209eaf96ddc35f27bd35fe2c8f0ae      Apricot_obj  -0.000   \n18    4c4a223b8642ff7c80db97a660ac37ada8cba732      Apricot_obj  -0.000   \n19    f6192eed74846a86733c12b2400459b7b3dff1b6      Apricot_obj  -0.000   \n20    c067441bed74bbdb4912282e908c839732c738bc          BAHRAIN  -0.000   \n21    2b9cc6ae0ad72f512bd84cca2f724952b03ba54e          BAHRAIN  -0.000   \n22    afb7c387453bace279dbdf9e06c40ea39624768a          BAHRAIN  -0.000   \n23    b840cfe74dbc13fd6c85316f1bb6edae58dd0ebb          BAHRAIN  -0.000   \n24    38887fb925862873f9320d3b8964f7c5f57db134          BAHRAIN  -0.000   \n25    5f4ea554c5cf965520a54fbb0a18fcee3931c954          BAHRAIN  -0.000   \n26    d34f62684363e54513b830dd9192aaa18c5c8651          BAHRAIN  -0.000   \n27    be5888d2cbe8ce06fa6d35a13eb9a58149c0b784          BAHRAIN  -0.000   \n28    768108628bf1edd1a2db3effb28032235d6407a2          BAHRAIN  -0.000   \n29    eadfb3cf7bf54f7f5102286ece37b64e56733c13          BAHRAIN  -0.000   \n...                                        ...              ...     ...   \n5730  7acf9f121ed2c04c859c69fd07fddbf26bf296e2               z3  18.965   \n5731  5265e92b005cb96fab76b3c9cc9dde05195e549d               z3 -50.317   \n5732  d8eb454f67f1a167d7fd85b3d0f5044e7fe9deec               z3  85.425   \n5733  088198f46559d2e34fa4b6f2e82f6d5b308edc12               z3  -8.158   \n5734  99208bb6b09c2d519fd5b612d3c6811de2d5fdaa               z3 -38.486   \n5735  1e9c7f4d6e538056b78df86ca950e625af1362f3               z3  75.191   \n5736  852413b76463b469c08d85190190ab4d98d5287a               z3  88.226   \n5737  6bebebc4a7fd838b015451789a8e346c215f2333               z3  63.350   \n5738  3459aca59a6d9ba51ac702caea98794314509538               z3  10.359   \n5739  775570462ec9b39f637c75cf48be4a0ffee4dba5               z3 -69.289   \n5740  28cff77bb8639846c2bc3e98f45a64df157b3ccd               z3  74.496   \n5741  14e0c51e4ffc5550a6eb700ddf60b83f0bf077b1               z3  33.535   \n5742  0333301170427e10f0c8b75acad1ce5753d85389               z3  16.022   \n5743  3bdf67ef326747837836cd069f5ccf865250e55e               z3  78.461   \n5744  8068a3ce81c3f27604e9aaaceb3712aaf066f50c               z3 -36.644   \n5745  d8987a9d6b3c3bfa0739af673ab5911975d4992b               z3 -69.060   \n5746  fae996892a974ea3d950f5762e80c54d8655ab72               z3 -45.764   \n5747  06d285d078dbbc488e55c75e481d826d2a0428c0               z3  11.280   \n5748  7e227a5d69f7c6ce9c7180945b9108836b135756               z3  56.828   \n5749  092ffe18940a0f06d2e792f9041c490a53f33aa3               z3  -5.677   \n5750  458e8bb4724af0a51f4678d7bda4da9cdca56d07               z3  86.269   \n5751  fe61ea817a5234fe784b3ed7bda630bbedd3b07d               z3 -26.439   \n5752  7f84f744c2fd311dd1b4fed5eed7c8593b9f3cc8               z3 -25.718   \n5753  adefe223b432ffa30263bb53d170a76ce7cc4ed7               z3   4.012   \n5754  a9ae650630daa2603f7aeeed6b27a69322714ef8               z3 -76.488   \n5755  f929a349245a4e77a8c6a912ce25caa0e66f1dc3               z3  49.824   \n5756  81b744f089e25237e73e7e0005cbdb1e3d99f214               z3  30.229   \n5757  de243d91c7d8d5f04c6d28ed955b883b6299eba7               z3  64.361   \n5758  ddb6642885da547e2e7341335927e9ea44e0dd6c               z3 -51.994   \n5759  6c92fc5594b71d123fa4323bcd5027dbbc9296fe               z3  11.540   \n\n      rxy_semantic     rxz  rxz_semantic     ryz  ryz_semantic      s  size  \\\n0           -0.000   0.000         0.000  -0.000        -0.000  1.000   256   \n1           -0.000   0.000         0.000  -0.000        -0.000  1.000   256   \n2           -0.000   0.000         0.000  -0.000        -0.000  1.000   256   \n3           -0.000   0.000         0.000  -0.000        -0.000  1.000   256   \n4           -0.000   0.000         0.000  -0.000        -0.000  1.000   256   \n5           -0.000   0.000         0.000  -0.000        -0.000  1.000   256   \n6           -0.000   0.000         0.000  -0.000        -0.000  1.000   256   \n7           -0.000   0.000         0.000  -0.000        -0.000  1.000   256   \n8           -0.000   0.000         0.000  -0.000        -0.000  1.000   256   \n9           -0.000   0.000         0.000  -0.000        -0.000  1.000   256   \n10          -0.000   0.000         0.000  -0.000        -0.000  1.000   256   \n11          -0.000   0.000         0.000  -0.000        -0.000  1.000   256   \n12          -0.000   0.000         0.000  -0.000        -0.000  1.000   256   \n13          -0.000   0.000         0.000  -0.000        -0.000  1.000   256   \n14          -0.000   0.000         0.000  -0.000        -0.000  1.000   256   \n15          -0.000   0.000         0.000  -0.000        -0.000  1.000   256   \n16          -0.000   0.000         0.000  -0.000        -0.000  1.000   256   \n17          -0.000   0.000         0.000  -0.000        -0.000  1.000   256   \n18          -0.000   0.000         0.000  -0.000        -0.000  1.000   256   \n19          -0.000   0.000         0.000  -0.000        -0.000  1.000   256   \n20          90.000   0.000         0.000  -0.000        -0.000  1.000   256   \n21          90.000   0.000         0.000  -0.000        -0.000  1.000   256   \n22          90.000   0.000         0.000  -0.000        -0.000  1.000   256   \n23          90.000   0.000         0.000  -0.000        -0.000  1.000   256   \n24          90.000   0.000         0.000  -0.000        -0.000  1.000   256   \n25          90.000   0.000         0.000  -0.000        -0.000  1.000   256   \n26          90.000   0.000         0.000  -0.000        -0.000  1.000   256   \n27          90.000   0.000         0.000  -0.000        -0.000  1.000   256   \n28          90.000   0.000         0.000  -0.000        -0.000  1.000   256   \n29          90.000   0.000         0.000  -0.000        -0.000  1.000   256   \n...            ...     ...           ...     ...           ...    ...   ...   \n5730       108.965  64.885        64.885  -2.787        -2.787  1.562   256   \n5731        39.683  65.932        65.932 -43.622       -43.622  1.200   256   \n5732       175.425  68.439        68.439 -72.142       -72.142  1.419   256   \n5733        81.842  69.157        69.157  -8.823        -8.823  1.230   256   \n5734        51.514  73.886        73.886  75.404        75.404  0.671   256   \n5735       165.191  77.115        77.115 -82.655       -82.655  1.438   256   \n5736       178.226  80.452        80.452  77.849        77.849  0.747   256   \n5737       153.350  89.560        89.560  77.975        77.975  0.633   256   \n5738       100.359  -3.998        -3.998 -67.726       -67.726  1.184   256   \n5739        20.711  -9.929        -9.929  30.773        30.773  1.025   256   \n5740       164.496 -13.186       -13.186 -24.282       -24.282  0.689   256   \n5741       123.535 -16.080       -16.080  -2.610        -2.610  0.782   256   \n5742       106.022 -19.952       -19.952  27.868        27.868  1.181   256   \n5743       168.461 -20.279       -20.279 -87.580       -87.580  0.889   256   \n5744        53.356 -23.153       -23.153  18.413        18.413  0.842   256   \n5745        20.940 -28.337       -28.337  57.500        57.500  1.364   256   \n5746        44.236 -38.736       -38.736  65.502        65.502  1.428   256   \n5747       101.280 -49.160       -49.160  -0.264        -0.264  1.555   256   \n5748       146.828 -52.935       -52.935  -0.592        -0.592  0.854   256   \n5749        84.323 -54.264       -54.264  11.103        11.103  1.567   256   \n5750       176.269 -54.823       -54.823  84.744        84.744  0.947   256   \n5751        63.561 -63.740       -63.740 -73.545       -73.545  1.496   256   \n5752        64.282 -68.594       -68.594  75.781        75.781  0.645   256   \n5753        94.012 -69.853       -69.853  72.695        72.695  1.402   256   \n5754        13.512 -71.912       -71.912 -31.938       -31.938  1.103   256   \n5755       139.824 -78.281       -78.281  66.625        66.625  1.000   256   \n5756       120.229 -85.608       -85.608 -87.242       -87.242  1.515   256   \n5757       154.361 -86.072       -86.072  38.988        38.988  1.394   256   \n5758        38.006 -86.882       -86.882  51.389        51.389  1.039   256   \n5759       101.540 -87.958       -87.958  79.689        79.689  0.875   256   \n\n         ty     tz var  \n0     0.000  0.000  V0  \n1     0.000  0.000  V0  \n2     0.000  0.000  V0  \n3     0.000  0.000  V0  \n4     0.000  0.000  V0  \n5     0.000  0.000  V0  \n6     0.000  0.000  V0  \n7     0.000  0.000  V0  \n8     0.000  0.000  V0  \n9     0.000  0.000  V0  \n10    0.000  0.000  V0  \n11    0.000  0.000  V0  \n12    0.000  0.000  V0  \n13    0.000  0.000  V0  \n14    0.000  0.000  V0  \n15    0.000  0.000  V0  \n16    0.000  0.000  V0  \n17    0.000  0.000  V0  \n18    0.000  0.000  V0  \n19    0.000  0.000  V0  \n20    0.000  0.000  V0  \n21    0.000  0.000  V0  \n22    0.000  0.000  V0  \n23    0.000  0.000  V0  \n24    0.000  0.000  V0  \n25    0.000  0.000  V0  \n26    0.000  0.000  V0  \n27    0.000  0.000  V0  \n28    0.000  0.000  V0  \n29    0.000  0.000  V0  \n...     ...    ...  ..  \n5730 -0.553  0.113  V6  \n5731 -0.356  0.595  V6  \n5732 -0.165  0.450  V6  \n5733 -0.568 -0.860  V6  \n5734  0.022  1.033  V6  \n5735  0.049 -0.871  V6  \n5736  0.580 -1.192  V6  \n5737  0.546 -0.520  V6  \n5738 -0.411 -0.907  V6  \n5739 -0.483  0.457  V6  \n5740  0.551 -0.574  V6  \n5741 -0.138 -1.084  V6  \n5742  0.225  0.028  V6  \n5743 -0.522 -0.422  V6  \n5744 -0.408  0.835  V6  \n5745 -0.464 -0.972  V6  \n5746  0.312  0.042  V6  \n5747 -0.277 -0.830  V6  \n5748  0.576  0.028  V6  \n5749 -0.391 -0.960  V6  \n5750 -0.103  0.082  V6  \n5751 -0.411  0.422  V6  \n5752  0.311  0.961  V6  \n5753 -0.043  0.072  V6  \n5754  0.571 -0.603  V6  \n5755  0.125 -0.770  V6  \n5756 -0.194 -0.077  V6  \n5757 -0.283  0.244  V6  \n5758 -0.014  0.402  V6  \n5759  0.145 -0.072  V6  \n\n[5760 rows x 18 columns]\n"
     ]
    }
   ],
   "source": [
    "Meta = Read_Meta(neuralfeaturesdir)\n",
    "print(Meta.get_DF_img())"
   ]
  },
  {
   "cell_type": "code",
   "execution_count": null,
   "metadata": {},
   "outputs": [],
   "source": []
  },
  {
   "cell_type": "code",
   "execution_count": null,
   "metadata": {},
   "outputs": [],
   "source": []
  }
 ],
 "metadata": {
  "kernelspec": {
   "display_name": "Python 2",
   "language": "python",
   "name": "python2"
  },
  "language_info": {
   "codemirror_mode": {
    "name": "ipython",
    "version": 2
   },
   "file_extension": ".py",
   "mimetype": "text/x-python",
   "name": "python",
   "nbconvert_exporter": "python",
   "pygments_lexer": "ipython2",
   "version": "2.7.6"
  }
 },
 "nbformat": 4,
 "nbformat_minor": 0
}
